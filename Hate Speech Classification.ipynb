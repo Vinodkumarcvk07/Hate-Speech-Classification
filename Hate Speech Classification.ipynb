{
 "cells": [
  {
   "cell_type": "markdown",
   "metadata": {
    "_cell_guid": "c651c47c-c264-4940-ba3b-7cc159b3d85c",
    "_uuid": "38ccfea6968d3afdeced5a82009e40c6304852b8"
   },
   "source": [
    "# Hate Speech Classification - Cute 4"
   ]
  },
  {
   "cell_type": "code",
   "execution_count": 2,
   "metadata": {
    "_cell_guid": "b1076dfc-b9ad-4769-8c92-a6c4dae69d19",
    "_uuid": "771ef0f5fee2055211e47d5010bcfe552e35b230"
   },
   "outputs": [
    {
     "name": "stderr",
     "output_type": "stream",
     "text": [
      "C:\\ProgramData\\Anaconda3\\lib\\site-packages\\h5py\\__init__.py:36: FutureWarning: Conversion of the second argument of issubdtype from `float` to `np.floating` is deprecated. In future, it will be treated as `np.float64 == np.dtype(float).type`.\n",
      "  from ._conv import register_converters as _register_converters\n",
      "Using TensorFlow backend.\n",
      "C:\\ProgramData\\Anaconda3\\lib\\site-packages\\gensim\\utils.py:1209: UserWarning: detected Windows; aliasing chunkize to chunkize_serial\n",
      "  warnings.warn(\"detected Windows; aliasing chunkize to chunkize_serial\")\n"
     ]
    }
   ],
   "source": [
    "# libraries\n",
    "\n",
    "import numpy as np # linear algebra\n",
    "import pandas as pd # data processing, CSV file I/O (e.g. pd.read_csv)\n",
    "import matplotlib.pyplot as plt\n",
    "np.random.seed(32)\n",
    "\n",
    "# Keras\n",
    "from keras.preprocessing.text import Tokenizer\n",
    "from keras.preprocessing.sequence import pad_sequences\n",
    "from keras.models import Sequential\n",
    "from keras.layers import Dense, Flatten, LSTM, Conv1D, MaxPooling1D, Dropout, Activation\n",
    "from keras.utils.np_utils import to_categorical\n",
    "from keras.layers.embeddings import Embedding\n",
    "\n",
    "## Plotly\n",
    "\n",
    "# import plotly.offline as py\n",
    "# import plotly.graph_objs as go\n",
    "# py.init_notebook_mode(connected=True)\n",
    "\n",
    "# Others\n",
    "import nltk\n",
    "import string\n",
    "import pandas as pd\n",
    "from nltk.corpus import stopwords\n",
    "import os\n",
    "import re\n",
    "from nltk.corpus import stopwords\n",
    "from nltk.stem import SnowballStemmer\n",
    "from string import punctuation\n",
    "from gensim.models import KeyedVectors\n",
    "from sklearn.model_selection import train_test_split\n",
    "from sklearn.metrics import confusion_matrix\n",
    "from sklearn.manifold import TSNE\n",
    "\n",
    "\n",
    "%matplotlib inline"
   ]
  },
  {
   "cell_type": "markdown",
   "metadata": {
    "_cell_guid": "fbaf3c33-6d28-4090-9ae6-cee0d756d8c5",
    "_uuid": "4e1824ffd6970179558b8d4a0c6c8c75ef689006"
   },
   "source": [
    "## The dataset"
   ]
  },
  {
   "cell_type": "code",
   "execution_count": 72,
   "metadata": {
    "_cell_guid": "79c7e3d0-c299-4dcb-8224-4455121ee9b0",
    "_uuid": "30ec2ff064b1f06c1f7cb19d8a2b8c3541d6b305"
   },
   "outputs": [],
   "source": [
    "df = pd.read_csv(\"Train.csv\")\n",
    "test_df = pd.read_csv(\"Test.csv\")"
   ]
  },
  {
   "cell_type": "code",
   "execution_count": 73,
   "metadata": {
    "_cell_guid": "828f63d7-d027-4df1-b3b5-aea024cb8b2f",
    "_uuid": "39adbda66b17e89c8d60bf370d1964763391b7b1"
   },
   "outputs": [
    {
     "name": "stdout",
     "output_type": "stream",
     "text": [
      "(25307, 5)\n"
     ]
    },
    {
     "data": {
      "text/html": [
       "<div>\n",
       "<style scoped>\n",
       "    .dataframe tbody tr th:only-of-type {\n",
       "        vertical-align: middle;\n",
       "    }\n",
       "\n",
       "    .dataframe tbody tr th {\n",
       "        vertical-align: top;\n",
       "    }\n",
       "\n",
       "    .dataframe thead th {\n",
       "        text-align: right;\n",
       "    }\n",
       "</style>\n",
       "<table border=\"1\" class=\"dataframe\">\n",
       "  <thead>\n",
       "    <tr style=\"text-align: right;\">\n",
       "      <th></th>\n",
       "      <th>id</th>\n",
       "      <th>text</th>\n",
       "      <th>hate_speech</th>\n",
       "      <th>obscene</th>\n",
       "      <th>insulting</th>\n",
       "    </tr>\n",
       "  </thead>\n",
       "  <tbody>\n",
       "    <tr>\n",
       "      <th>0</th>\n",
       "      <td>4255</td>\n",
       "      <td>\"\\n\\n\"\"Vandalising\"\", \"\"Ok for the last time\"\"...</td>\n",
       "      <td>1</td>\n",
       "      <td>1</td>\n",
       "      <td>1</td>\n",
       "    </tr>\n",
       "    <tr>\n",
       "      <th>1</th>\n",
       "      <td>19037</td>\n",
       "      <td>Where you at devil? The World's Greatest Terro...</td>\n",
       "      <td>1</td>\n",
       "      <td>1</td>\n",
       "      <td>1</td>\n",
       "    </tr>\n",
       "    <tr>\n",
       "      <th>2</th>\n",
       "      <td>4552</td>\n",
       "      <td>Here I am: 0Waldo with my 'OTHER' response to ...</td>\n",
       "      <td>1</td>\n",
       "      <td>1</td>\n",
       "      <td>1</td>\n",
       "    </tr>\n",
       "    <tr>\n",
       "      <th>3</th>\n",
       "      <td>30048</td>\n",
       "      <td>well then don't \\n\\nundo other people's edits ...</td>\n",
       "      <td>0</td>\n",
       "      <td>0</td>\n",
       "      <td>0</td>\n",
       "    </tr>\n",
       "    <tr>\n",
       "      <th>4</th>\n",
       "      <td>9643</td>\n",
       "      <td>Mr. kMan \\n\\nhi. I dont like the tonne of your...</td>\n",
       "      <td>1</td>\n",
       "      <td>0</td>\n",
       "      <td>0</td>\n",
       "    </tr>\n",
       "  </tbody>\n",
       "</table>\n",
       "</div>"
      ],
      "text/plain": [
       "      id                                               text  hate_speech  \\\n",
       "0   4255  \"\\n\\n\"\"Vandalising\"\", \"\"Ok for the last time\"\"...            1   \n",
       "1  19037  Where you at devil? The World's Greatest Terro...            1   \n",
       "2   4552  Here I am: 0Waldo with my 'OTHER' response to ...            1   \n",
       "3  30048  well then don't \\n\\nundo other people's edits ...            0   \n",
       "4   9643  Mr. kMan \\n\\nhi. I dont like the tonne of your...            1   \n",
       "\n",
       "   obscene  insulting  \n",
       "0        1          1  \n",
       "1        1          1  \n",
       "2        1          1  \n",
       "3        0          0  \n",
       "4        0          0  "
      ]
     },
     "execution_count": 73,
     "metadata": {},
     "output_type": "execute_result"
    }
   ],
   "source": [
    "print(df.shape)\n",
    "df.head()"
   ]
  },
  {
   "cell_type": "code",
   "execution_count": 74,
   "metadata": {},
   "outputs": [
    {
     "data": {
      "text/html": [
       "<div>\n",
       "<style scoped>\n",
       "    .dataframe tbody tr th:only-of-type {\n",
       "        vertical-align: middle;\n",
       "    }\n",
       "\n",
       "    .dataframe tbody tr th {\n",
       "        vertical-align: top;\n",
       "    }\n",
       "\n",
       "    .dataframe thead th {\n",
       "        text-align: right;\n",
       "    }\n",
       "</style>\n",
       "<table border=\"1\" class=\"dataframe\">\n",
       "  <thead>\n",
       "    <tr style=\"text-align: right;\">\n",
       "      <th></th>\n",
       "      <th>id</th>\n",
       "      <th>text</th>\n",
       "      <th>hate_speech</th>\n",
       "      <th>obscene</th>\n",
       "      <th>insulting</th>\n",
       "    </tr>\n",
       "  </thead>\n",
       "  <tbody>\n",
       "    <tr>\n",
       "      <th>5</th>\n",
       "      <td>27162</td>\n",
       "      <td>it becomes the primary reason why the Internet...</td>\n",
       "      <td>0</td>\n",
       "      <td>1</td>\n",
       "      <td>0</td>\n",
       "    </tr>\n",
       "    <tr>\n",
       "      <th>33</th>\n",
       "      <td>27538</td>\n",
       "      <td>shut your hole sun of beach. nobody asked u tard</td>\n",
       "      <td>1</td>\n",
       "      <td>0</td>\n",
       "      <td>1</td>\n",
       "    </tr>\n",
       "    <tr>\n",
       "      <th>35</th>\n",
       "      <td>10040</td>\n",
       "      <td>fuck u i will do as i please</td>\n",
       "      <td>1</td>\n",
       "      <td>1</td>\n",
       "      <td>0</td>\n",
       "    </tr>\n",
       "    <tr>\n",
       "      <th>394</th>\n",
       "      <td>3522</td>\n",
       "      <td>\"\\n\\nDrmies your page looks like shit. I can't...</td>\n",
       "      <td>0</td>\n",
       "      <td>1</td>\n",
       "      <td>1</td>\n",
       "    </tr>\n",
       "    <tr>\n",
       "      <th>911</th>\n",
       "      <td>9531</td>\n",
       "      <td>Bold textThe many constructive editors of this...</td>\n",
       "      <td>0</td>\n",
       "      <td>0</td>\n",
       "      <td>1</td>\n",
       "    </tr>\n",
       "    <tr>\n",
       "      <th>6989</th>\n",
       "      <td>1</td>\n",
       "      <td>\"\\n\\nThanks\\nThanks for reverting the vandalis...</td>\n",
       "      <td>0</td>\n",
       "      <td>0</td>\n",
       "      <td>0</td>\n",
       "    </tr>\n",
       "    <tr>\n",
       "      <th>11696</th>\n",
       "      <td>28</td>\n",
       "      <td>TT Quick \\n\\nPlease revert to TT Quick.net.......</td>\n",
       "      <td>1</td>\n",
       "      <td>1</td>\n",
       "      <td>1</td>\n",
       "    </tr>\n",
       "    <tr>\n",
       "      <th>15453</th>\n",
       "      <td>33</td>\n",
       "      <td>You are such an ignorant piece of refuse. You ...</td>\n",
       "      <td>1</td>\n",
       "      <td>0</td>\n",
       "      <td>0</td>\n",
       "    </tr>\n",
       "  </tbody>\n",
       "</table>\n",
       "</div>"
      ],
      "text/plain": [
       "          id                                               text  hate_speech  \\\n",
       "5      27162  it becomes the primary reason why the Internet...            0   \n",
       "33     27538   shut your hole sun of beach. nobody asked u tard            1   \n",
       "35     10040                       fuck u i will do as i please            1   \n",
       "394     3522  \"\\n\\nDrmies your page looks like shit. I can't...            0   \n",
       "911     9531  Bold textThe many constructive editors of this...            0   \n",
       "6989       1  \"\\n\\nThanks\\nThanks for reverting the vandalis...            0   \n",
       "11696     28  TT Quick \\n\\nPlease revert to TT Quick.net.......            1   \n",
       "15453     33  You are such an ignorant piece of refuse. You ...            1   \n",
       "\n",
       "       obscene  insulting  \n",
       "5            1          0  \n",
       "33           0          1  \n",
       "35           1          0  \n",
       "394          1          1  \n",
       "911          0          1  \n",
       "6989         0          0  \n",
       "11696        1          1  \n",
       "15453        0          0  "
      ]
     },
     "execution_count": 74,
     "metadata": {},
     "output_type": "execute_result"
    }
   ],
   "source": [
    "df[df.apply(lambda x: x['id'] in [1,27538,28,33, 10040,27162, 3522,9531], axis=1)]"
   ]
  },
  {
   "cell_type": "code",
   "execution_count": 11,
   "metadata": {},
   "outputs": [
    {
     "data": {
      "text/plain": [
       "'\"\\n\\n\"\"Vandalising\"\", \"\"Ok for the last time\"\" - who the fuck do you think are? Mr Encyclopaedia?\\n\\nYou don\\'t own Wikipedia loser, you English \"\"twat\"\" (hey, why don\\'t you contribute to the meaning of that one by describing yourself ??)\\n\\nGet a life\"'"
      ]
     },
     "execution_count": 11,
     "metadata": {},
     "output_type": "execute_result"
    }
   ],
   "source": [
    "df['text'][0]"
   ]
  },
  {
   "cell_type": "code",
   "execution_count": 12,
   "metadata": {},
   "outputs": [
    {
     "data": {
      "text/plain": [
       "\"well then don't \\n\\nundo other people's edits when you clearly don't know what you're talking about! you made a right cunt of that one mate!\""
      ]
     },
     "execution_count": 12,
     "metadata": {},
     "output_type": "execute_result"
    }
   ],
   "source": [
    "df['text'][3]"
   ]
  },
  {
   "cell_type": "code",
   "execution_count": 15,
   "metadata": {},
   "outputs": [
    {
     "data": {
      "text/plain": [
       "'Mr. kMan \\n\\nhi. I dont like the tonne of your face. Do you touch your mom with those fingers?'"
      ]
     },
     "execution_count": 15,
     "metadata": {},
     "output_type": "execute_result"
    }
   ],
   "source": [
    "df['text'][4]"
   ]
  },
  {
   "cell_type": "code",
   "execution_count": 14,
   "metadata": {},
   "outputs": [
    {
     "data": {
      "text/plain": [
       "'it becomes the primary reason why the Internet sucks.\\n\\nSo, wikifiddle, and wait when the party and its in reality sets in.'"
      ]
     },
     "execution_count": 14,
     "metadata": {},
     "output_type": "execute_result"
    }
   ],
   "source": [
    "df['text'][5]"
   ]
  },
  {
   "cell_type": "code",
   "execution_count": 52,
   "metadata": {},
   "outputs": [
    {
     "name": "stdout",
     "output_type": "stream",
     "text": [
      "(6327, 2)\n"
     ]
    },
    {
     "data": {
      "text/html": [
       "<div>\n",
       "<style scoped>\n",
       "    .dataframe tbody tr th:only-of-type {\n",
       "        vertical-align: middle;\n",
       "    }\n",
       "\n",
       "    .dataframe tbody tr th {\n",
       "        vertical-align: top;\n",
       "    }\n",
       "\n",
       "    .dataframe thead th {\n",
       "        text-align: right;\n",
       "    }\n",
       "</style>\n",
       "<table border=\"1\" class=\"dataframe\">\n",
       "  <thead>\n",
       "    <tr style=\"text-align: right;\">\n",
       "      <th></th>\n",
       "      <th>id</th>\n",
       "      <th>text</th>\n",
       "    </tr>\n",
       "  </thead>\n",
       "  <tbody>\n",
       "    <tr>\n",
       "      <th>0</th>\n",
       "      <td>21810</td>\n",
       "      <td>This robot \\n\\nIs WAY cooler than danski</td>\n",
       "    </tr>\n",
       "    <tr>\n",
       "      <th>1</th>\n",
       "      <td>5865</td>\n",
       "      <td>Gone through with a bit of a hedge trimmer app...</td>\n",
       "    </tr>\n",
       "    <tr>\n",
       "      <th>2</th>\n",
       "      <td>25859</td>\n",
       "      <td>Commissioner of Consumer Affairs \\n\\nCan someo...</td>\n",
       "    </tr>\n",
       "    <tr>\n",
       "      <th>3</th>\n",
       "      <td>8721</td>\n",
       "      <td>or any historical fact concerning current Arme...</td>\n",
       "    </tr>\n",
       "    <tr>\n",
       "      <th>4</th>\n",
       "      <td>8194</td>\n",
       "      <td>You might think that; I couldn't possibly comm...</td>\n",
       "    </tr>\n",
       "  </tbody>\n",
       "</table>\n",
       "</div>"
      ],
      "text/plain": [
       "      id                                               text\n",
       "0  21810           This robot \\n\\nIs WAY cooler than danski\n",
       "1   5865  Gone through with a bit of a hedge trimmer app...\n",
       "2  25859  Commissioner of Consumer Affairs \\n\\nCan someo...\n",
       "3   8721  or any historical fact concerning current Arme...\n",
       "4   8194  You might think that; I couldn't possibly comm..."
      ]
     },
     "execution_count": 52,
     "metadata": {},
     "output_type": "execute_result"
    }
   ],
   "source": [
    "print(test_df.shape)\n",
    "test_df.head()"
   ]
  },
  {
   "cell_type": "markdown",
   "metadata": {},
   "source": [
    "## User defined Functions"
   ]
  },
  {
   "cell_type": "code",
   "execution_count": 3,
   "metadata": {},
   "outputs": [],
   "source": [
    "def clean_text(text):\n",
    "    \n",
    "    ## Remove puncuation\n",
    "    text = text.translate(string.punctuation)\n",
    "    \n",
    "    ## Convert words to lower case and split them\n",
    "    text = text.lower().split()\n",
    "    \n",
    "    ## Remove stop words\n",
    "    stops = set(stopwords.words(\"english\"))\n",
    "    text = [w for w in text if not w in stops and len(w) >= 3]\n",
    "    \n",
    "    text = \" \".join(text)\n",
    "\n",
    "    ## Clean the text\n",
    "    text = re.sub(r\"[^A-Za-z0-9^,!.\\/'+-=]\", \" \", text)\n",
    "    text = re.sub(r\"what's\", \"what is \", text)\n",
    "    text = re.sub(r\"\\'s\", \" \", text)\n",
    "    text = re.sub(r\"\\'ve\", \" have \", text)\n",
    "    text = re.sub(r\"n't\", \" not \", text)\n",
    "    text = re.sub(r\"i'm\", \"i am \", text)\n",
    "    text = re.sub(r\"\\'re\", \" are \", text)\n",
    "    text = re.sub(r\"\\'d\", \" would \", text)\n",
    "    text = re.sub(r\"\\'ll\", \" will \", text)\n",
    "    text = re.sub(r\",\", \" \", text)\n",
    "    text = re.sub(r\"\\.\", \" \", text)\n",
    "    text = re.sub(r\"!\", \" ! \", text)\n",
    "    text = re.sub(r\"\\/\", \" \", text)\n",
    "    text = re.sub(r\"\\^\", \" ^ \", text)\n",
    "    text = re.sub(r\"\\+\", \" + \", text)\n",
    "    text = re.sub(r\"\\-\", \" - \", text)\n",
    "    text = re.sub(r\"\\=\", \" = \", text)\n",
    "    text = re.sub(r\"'\", \" \", text)\n",
    "    text = re.sub(r\"(\\d+)(k)\", r\"\\g<1>000\", text)\n",
    "    text = re.sub(r\":\", \" : \", text)\n",
    "    text = re.sub(r\" e g \", \" eg \", text)\n",
    "    text = re.sub(r\" b g \", \" bg \", text)\n",
    "    text = re.sub(r\" u s \", \" american \", text)\n",
    "    text = re.sub(r\"\\0s\", \"0\", text)\n",
    "    text = re.sub(r\" 9 11 \", \"911\", text)\n",
    "    text = re.sub(r\"e - mail\", \"email\", text)\n",
    "    text = re.sub(r\"j k\", \"jk\", text)\n",
    "    text = re.sub(r\"\\s{2,}\", \" \", text)\n",
    "\n",
    "    ## Stemming\n",
    "    text = text.split()\n",
    "    stemmer = SnowballStemmer('english')\n",
    "    stemmed_words = [stemmer.stem(word) for word in text]\n",
    "    text = \" \".join(stemmed_words)\n",
    "    return text\n",
    "\n",
    "# Function to encoding target\n",
    "def createLable(row):\n",
    "    if row['hate_speech'] == 0 and row['obscene'] ==  0 and row['insulting'] == 0:\n",
    "        x = 0\n",
    "    elif row['hate_speech'] == 0 and row['obscene'] ==  0 and row['insulting'] == 1:\n",
    "        x = 1\n",
    "    elif row['hate_speech'] == 0 and row['obscene'] ==  1 and row['insulting'] == 0:\n",
    "        x = 2\n",
    "    elif row['hate_speech'] == 0 and row['obscene'] ==  1 and row['insulting'] == 1:\n",
    "        x = 3\n",
    "    elif row['hate_speech'] == 1 and row['obscene'] ==  0 and row['insulting'] == 0:\n",
    "        x = 4\n",
    "    elif row['hate_speech'] == 1 and row['obscene'] ==  1 and row['insulting'] == 0:\n",
    "        x = 5\n",
    "    elif row['hate_speech'] == 1 and row['obscene'] ==  0 and row['insulting'] == 1:\n",
    "        x = 6\n",
    "    else:\n",
    "        x = 7\n",
    "    return x\n",
    "\n",
    "########### hamming score##############\n",
    "\n",
    "def hamming_score(y_true, y_pred, normalize=True, sample_weight=None):\n",
    "    acc_list = []\n",
    "    for i in range(y_true.shape[0]):\n",
    "        set_true = set( np.where(y_true[i])[0] )\n",
    "        set_pred = set( np.where(y_pred[i])[0] )\n",
    "        #print('\\nset_true: {0}'.format(set_true))\n",
    "        #print('set_pred: {0}'.format(set_pred))\n",
    "        tmp_a = None\n",
    "        if len(set_true) == 0 and len(set_pred) == 0:\n",
    "            tmp_a = 1\n",
    "        else:\n",
    "            tmp_a = len(set_true.intersection(set_pred))/\\\n",
    "                    float( len(set_true.union(set_pred)) )\n",
    "        #print('tmp_a: {0}'.format(tmp_a))\n",
    "        acc_list.append(tmp_a)\n",
    "    return np.mean(acc_list)\n",
    "\n",
    "    print('Hamming score: {0}'.format(hamming_score(y_true, y_pred))) # 0.375 (= (0.5+1+0+0)/4)\n",
    "\n",
    "    import sklearn.metrics\n",
    "    print('Subset accuracy: {0}'.format(sklearn.metrics.accuracy_score(y_true, y_pred, normalize=True, sample_weight=None)))\n",
    "    print('Hamming loss: {0}'.format(sklearn.metrics.hamming_loss(y_true, y_pred))) \n",
    "\n",
    "def hamming_score_step(pred, actual):\n",
    "    result = pd.DataFrame({ 'target': pred,  'actual': actual})\n",
    "    result['hate_speech'] = result.apply(lambda row: 1 if row['target'] in [4,5,6,7] else 0, axis=1 )\n",
    "    result['obscene'] = result.apply(lambda row: 1 if row['target'] in [2,3,5,7] else 0, axis=1 )\n",
    "    result['insulting'] = result.apply(lambda row: 1 if row['target'] in [1,3,6,7] else 0, axis=1 )\n",
    "    result['hate_speech_A'] = result.apply(lambda row: 1 if row['actual'] in [4,5,6,7] else 0, axis=1 )\n",
    "    result['obscene_A'] = result.apply(lambda row: 1 if row['actual'] in [2,3,5,7] else 0, axis=1 )\n",
    "    result['insulting_A'] = result.apply(lambda row: 1 if row['actual'] in [1,3,6,7] else 0, axis=1 )\n",
    "    print('Hamming score: {0}'.format(hamming_score(result[['hate_speech_A','obscene_A','insulting_A']].values, result[['hate_speech','obscene','insulting']].values))) # 0.375 (= (0.5+1+0+0)/4)"
   ]
  },
  {
   "cell_type": "code",
   "execution_count": 54,
   "metadata": {},
   "outputs": [
    {
     "name": "stdout",
     "output_type": "stream",
     "text": [
      "      id                                               text  hate_speech  \\\n",
      "0   4255  + + vandalis ok last time fuck think are encyc...            1   \n",
      "1  19037  devil world greatest terrorist forgot scum + +...            1   \n",
      "2   4552  am : 0waldo other respons total collater blath...            1   \n",
      "3  30048  well + + undo peopl edit clear know talk about...            0   \n",
      "4   9643  mr kman + + hi dont like tonn face touch mom f...            1   \n",
      "\n",
      "   obscene  insulting  \n",
      "0        1          1  \n",
      "1        1          1  \n",
      "2        1          1  \n",
      "3        0          0  \n",
      "4        0          0  \n",
      "      id                                               text\n",
      "0  21810                     robot + + is way cooler danski\n",
      "1   5865  gone bit hedg trimmer approach think remov any...\n",
      "2  25859  commission consum affair + + can someon add se...\n",
      "3   8721  histor fact concern current armenia pertain wi...\n",
      "4   8194  might think that; possibl comment nice pars ac...\n"
     ]
    }
   ],
   "source": [
    "df['text'] = df['text'].map(lambda x: clean_text(x))\n",
    "print(df.head())\n",
    "test_df['text'] = test_df['text'].map(lambda x: clean_text(x)) ;\n",
    "print(test_df.head())"
   ]
  },
  {
   "cell_type": "markdown",
   "metadata": {},
   "source": [
    "## Target Creation"
   ]
  },
  {
   "cell_type": "code",
   "execution_count": 75,
   "metadata": {},
   "outputs": [],
   "source": [
    "df['target'] = df.apply(createLable, axis = 1)"
   ]
  },
  {
   "cell_type": "code",
   "execution_count": 76,
   "metadata": {},
   "outputs": [
    {
     "data": {
      "text/html": [
       "<div>\n",
       "<style scoped>\n",
       "    .dataframe tbody tr th:only-of-type {\n",
       "        vertical-align: middle;\n",
       "    }\n",
       "\n",
       "    .dataframe tbody tr th {\n",
       "        vertical-align: top;\n",
       "    }\n",
       "\n",
       "    .dataframe thead th {\n",
       "        text-align: right;\n",
       "    }\n",
       "</style>\n",
       "<table border=\"1\" class=\"dataframe\">\n",
       "  <thead>\n",
       "    <tr style=\"text-align: right;\">\n",
       "      <th></th>\n",
       "      <th>id</th>\n",
       "      <th>text</th>\n",
       "      <th>hate_speech</th>\n",
       "      <th>obscene</th>\n",
       "      <th>insulting</th>\n",
       "      <th>target</th>\n",
       "    </tr>\n",
       "  </thead>\n",
       "  <tbody>\n",
       "    <tr>\n",
       "      <th>0</th>\n",
       "      <td>4255</td>\n",
       "      <td>\"\\n\\n\"\"Vandalising\"\", \"\"Ok for the last time\"\"...</td>\n",
       "      <td>1</td>\n",
       "      <td>1</td>\n",
       "      <td>1</td>\n",
       "      <td>7</td>\n",
       "    </tr>\n",
       "    <tr>\n",
       "      <th>1</th>\n",
       "      <td>19037</td>\n",
       "      <td>Where you at devil? The World's Greatest Terro...</td>\n",
       "      <td>1</td>\n",
       "      <td>1</td>\n",
       "      <td>1</td>\n",
       "      <td>7</td>\n",
       "    </tr>\n",
       "    <tr>\n",
       "      <th>2</th>\n",
       "      <td>4552</td>\n",
       "      <td>Here I am: 0Waldo with my 'OTHER' response to ...</td>\n",
       "      <td>1</td>\n",
       "      <td>1</td>\n",
       "      <td>1</td>\n",
       "      <td>7</td>\n",
       "    </tr>\n",
       "    <tr>\n",
       "      <th>3</th>\n",
       "      <td>30048</td>\n",
       "      <td>well then don't \\n\\nundo other people's edits ...</td>\n",
       "      <td>0</td>\n",
       "      <td>0</td>\n",
       "      <td>0</td>\n",
       "      <td>0</td>\n",
       "    </tr>\n",
       "    <tr>\n",
       "      <th>4</th>\n",
       "      <td>9643</td>\n",
       "      <td>Mr. kMan \\n\\nhi. I dont like the tonne of your...</td>\n",
       "      <td>1</td>\n",
       "      <td>0</td>\n",
       "      <td>0</td>\n",
       "      <td>4</td>\n",
       "    </tr>\n",
       "  </tbody>\n",
       "</table>\n",
       "</div>"
      ],
      "text/plain": [
       "      id                                               text  hate_speech  \\\n",
       "0   4255  \"\\n\\n\"\"Vandalising\"\", \"\"Ok for the last time\"\"...            1   \n",
       "1  19037  Where you at devil? The World's Greatest Terro...            1   \n",
       "2   4552  Here I am: 0Waldo with my 'OTHER' response to ...            1   \n",
       "3  30048  well then don't \\n\\nundo other people's edits ...            0   \n",
       "4   9643  Mr. kMan \\n\\nhi. I dont like the tonne of your...            1   \n",
       "\n",
       "   obscene  insulting  target  \n",
       "0        1          1       7  \n",
       "1        1          1       7  \n",
       "2        1          1       7  \n",
       "3        0          0       0  \n",
       "4        0          0       4  "
      ]
     },
     "execution_count": 76,
     "metadata": {},
     "output_type": "execute_result"
    }
   ],
   "source": [
    "df.head()"
   ]
  },
  {
   "cell_type": "code",
   "execution_count": 77,
   "metadata": {},
   "outputs": [
    {
     "data": {
      "text/html": [
       "<div>\n",
       "<style scoped>\n",
       "    .dataframe tbody tr th:only-of-type {\n",
       "        vertical-align: middle;\n",
       "    }\n",
       "\n",
       "    .dataframe tbody tr th {\n",
       "        vertical-align: top;\n",
       "    }\n",
       "\n",
       "    .dataframe thead th {\n",
       "        text-align: right;\n",
       "    }\n",
       "</style>\n",
       "<table border=\"1\" class=\"dataframe\">\n",
       "  <thead>\n",
       "    <tr style=\"text-align: right;\">\n",
       "      <th></th>\n",
       "      <th>id</th>\n",
       "      <th>text</th>\n",
       "      <th>hate_speech</th>\n",
       "      <th>obscene</th>\n",
       "      <th>insulting</th>\n",
       "      <th>target</th>\n",
       "    </tr>\n",
       "  </thead>\n",
       "  <tbody>\n",
       "    <tr>\n",
       "      <th>6989</th>\n",
       "      <td>1</td>\n",
       "      <td>\"\\n\\nThanks\\nThanks for reverting the vandalis...</td>\n",
       "      <td>0</td>\n",
       "      <td>0</td>\n",
       "      <td>0</td>\n",
       "      <td>0</td>\n",
       "    </tr>\n",
       "    <tr>\n",
       "      <th>911</th>\n",
       "      <td>9531</td>\n",
       "      <td>Bold textThe many constructive editors of this...</td>\n",
       "      <td>0</td>\n",
       "      <td>0</td>\n",
       "      <td>1</td>\n",
       "      <td>1</td>\n",
       "    </tr>\n",
       "    <tr>\n",
       "      <th>5</th>\n",
       "      <td>27162</td>\n",
       "      <td>it becomes the primary reason why the Internet...</td>\n",
       "      <td>0</td>\n",
       "      <td>1</td>\n",
       "      <td>0</td>\n",
       "      <td>2</td>\n",
       "    </tr>\n",
       "    <tr>\n",
       "      <th>394</th>\n",
       "      <td>3522</td>\n",
       "      <td>\"\\n\\nDrmies your page looks like shit. I can't...</td>\n",
       "      <td>0</td>\n",
       "      <td>1</td>\n",
       "      <td>1</td>\n",
       "      <td>3</td>\n",
       "    </tr>\n",
       "    <tr>\n",
       "      <th>15453</th>\n",
       "      <td>33</td>\n",
       "      <td>You are such an ignorant piece of refuse. You ...</td>\n",
       "      <td>1</td>\n",
       "      <td>0</td>\n",
       "      <td>0</td>\n",
       "      <td>4</td>\n",
       "    </tr>\n",
       "    <tr>\n",
       "      <th>35</th>\n",
       "      <td>10040</td>\n",
       "      <td>fuck u i will do as i please</td>\n",
       "      <td>1</td>\n",
       "      <td>1</td>\n",
       "      <td>0</td>\n",
       "      <td>5</td>\n",
       "    </tr>\n",
       "    <tr>\n",
       "      <th>33</th>\n",
       "      <td>27538</td>\n",
       "      <td>shut your hole sun of beach. nobody asked u tard</td>\n",
       "      <td>1</td>\n",
       "      <td>0</td>\n",
       "      <td>1</td>\n",
       "      <td>6</td>\n",
       "    </tr>\n",
       "    <tr>\n",
       "      <th>11696</th>\n",
       "      <td>28</td>\n",
       "      <td>TT Quick \\n\\nPlease revert to TT Quick.net.......</td>\n",
       "      <td>1</td>\n",
       "      <td>1</td>\n",
       "      <td>1</td>\n",
       "      <td>7</td>\n",
       "    </tr>\n",
       "  </tbody>\n",
       "</table>\n",
       "</div>"
      ],
      "text/plain": [
       "          id                                               text  hate_speech  \\\n",
       "6989       1  \"\\n\\nThanks\\nThanks for reverting the vandalis...            0   \n",
       "911     9531  Bold textThe many constructive editors of this...            0   \n",
       "5      27162  it becomes the primary reason why the Internet...            0   \n",
       "394     3522  \"\\n\\nDrmies your page looks like shit. I can't...            0   \n",
       "15453     33  You are such an ignorant piece of refuse. You ...            1   \n",
       "35     10040                       fuck u i will do as i please            1   \n",
       "33     27538   shut your hole sun of beach. nobody asked u tard            1   \n",
       "11696     28  TT Quick \\n\\nPlease revert to TT Quick.net.......            1   \n",
       "\n",
       "       obscene  insulting  target  \n",
       "6989         0          0       0  \n",
       "911          0          1       1  \n",
       "5            1          0       2  \n",
       "394          1          1       3  \n",
       "15453        0          0       4  \n",
       "35           1          0       5  \n",
       "33           0          1       6  \n",
       "11696        1          1       7  "
      ]
     },
     "execution_count": 77,
     "metadata": {},
     "output_type": "execute_result"
    }
   ],
   "source": [
    "df[df.apply(lambda x: x['id'] in [1,27538,28,33, 10040,27162, 3522,9531], axis=1)].sort_values('target')"
   ]
  },
  {
   "cell_type": "code",
   "execution_count": 78,
   "metadata": {},
   "outputs": [],
   "source": [
    "df[df.apply(lambda x: x['id'] in [1,27538,28,33, 10040,27162, 3522,9531], axis=1)].sort_values('target').to_csv(\"sample.csv\", index=False)"
   ]
  },
  {
   "cell_type": "code",
   "execution_count": 80,
   "metadata": {},
   "outputs": [],
   "source": [
    "df[['id','target']].to_csv('target_coulmn.csv')"
   ]
  },
  {
   "cell_type": "markdown",
   "metadata": {
    "_cell_guid": "670f050c-7582-40a6-b269-fac08d545105",
    "_uuid": "0d14091ace3a490d7f14fdfd32a42777d2d47f75"
   },
   "source": [
    "We will only consider the  text of the reviews and the target."
   ]
  },
  {
   "cell_type": "code",
   "execution_count": 81,
   "metadata": {},
   "outputs": [
    {
     "data": {
      "text/plain": [
       "0    12603\n",
       "4     4801\n",
       "7     4775\n",
       "5     1590\n",
       "6     1096\n",
       "2      255\n",
       "3      163\n",
       "1       24\n",
       "Name: target, dtype: int64"
      ]
     },
     "execution_count": 81,
     "metadata": {},
     "output_type": "execute_result"
    }
   ],
   "source": [
    "df['target'].value_counts()"
   ]
  },
  {
   "cell_type": "markdown",
   "metadata": {},
   "source": [
    "- 0 means comment is not  'hate_speech', 'obscene' and 'insulting'\n",
    "\n",
    "- 1 means comment is only 'insulting'\n",
    "\n",
    "- 2 means comment is only 'obscence'\n",
    "\n",
    "- 3 means comment is 'obscene' and 'insulting'\n",
    "\n",
    "- 4 means comment is 'hate_speech'\n",
    "\n",
    "- 5 means comment is 'hate_speech' and 'obscene'\n",
    "\n",
    "- 6 means comment is 'hate_speech' and 'insulting'\n",
    "\n",
    "- 7 means comment is 'hate_speech', 'obscene' and 'insulting'"
   ]
  },
  {
   "cell_type": "code",
   "execution_count": 82,
   "metadata": {
    "_cell_guid": "695fe92b-1d4f-4dff-b50e-d590ea6a59f3",
    "_uuid": "5546579973c75e020860914aeb40928c820f1141"
   },
   "outputs": [
    {
     "data": {
      "text/plain": [
       "Text(0.9,5500,\"0 - comment is not  'hate_speech', 'obscene' and 'insulting' \\n 1 - comment is only 'insulting' \\n 2 - comment is only 'obscence' \\n 3 - comment is 'obscene' and 'insulting'\\n4 - comment is 'hate_speech'\\n5 - comment is 'hate_speech' and 'obscene'\\n6 - comment is 'hate_speech' and 'insulting'\\n7 - comment is 'hate_speech', 'obscene' and 'insulting'\")"
      ]
     },
     "execution_count": 82,
     "metadata": {},
     "output_type": "execute_result"
    },
    {
     "data": {
      "image/png": "[encoded data removed]",
      "text/plain": [
       "<matplotlib.figure.Figure at 0x29c4d85d438>"
      ]
     },
     "metadata": {},
     "output_type": "display_data"
    }
   ],
   "source": [
    "plt.hist(df['target'])\n",
    "plt.xlabel('Comments Type')\n",
    "plt.ylabel('comments count')\n",
    "plt.title('Histogram for Comments')\n",
    "# plt.grid(True)\n",
    "plt.annotate(\"0 - comment is not  'hate_speech', 'obscene' and 'insulting' \\n 1 - comment is only 'insulting' \\n 2 - comment is only 'obscence' \\n 3 - comment is 'obscene' and 'insulting'\\n4 - comment is 'hate_speech'\\n5 - comment is 'hate_speech' and 'obscene'\\n6 - comment is 'hate_speech' and 'insulting'\\n7 - comment is 'hate_speech', 'obscene' and 'insulting'\",\n",
    "             xy=(0.9, 5500))"
   ]
  },
  {
   "cell_type": "code",
   "execution_count": 83,
   "metadata": {},
   "outputs": [
    {
     "data": {
      "text/plain": [
       "target\n",
       "0    0.498005\n",
       "1    0.000948\n",
       "2    0.010076\n",
       "3    0.006441\n",
       "4    0.189710\n",
       "5    0.062828\n",
       "6    0.043308\n",
       "7    0.188683\n",
       "Name: hate_speech, dtype: float64"
      ]
     },
     "execution_count": 83,
     "metadata": {},
     "output_type": "execute_result"
    }
   ],
   "source": [
    "df.groupby('target')['hate_speech'].count()/df['target'].count()"
   ]
  },
  {
   "cell_type": "markdown",
   "metadata": {
    "_cell_guid": "0aaa4c17-deb5-44ef-a9ef-82189f82106f",
    "_uuid": "df977473be7152039d37b40ac2466e5c99aacdac"
   },
   "source": [
    "Train data has 49.8% has good comments and 50.2% has bad comments"
   ]
  },
  {
   "cell_type": "markdown",
   "metadata": {
    "_cell_guid": "913dc155-043c-4071-90c5-a51deefc029e",
    "_uuid": "e8c8b0daadfbe38e62132ffa852dc58cfcfc5f07",
    "collapsed": true
   },
   "source": [
    "The following cells uses Keras to preprocess text:\n",
    "- using a tokenizer. You may use different tokenizers (from scikit-learn, NLTK, custom Python function etc.). This converts the texts into sequences of indices representing the `20000` most frequent words\n",
    "- sequences have different lengths, so we pad them (add 0s at the end until the sequence is of length `1000`)\n",
    "- we convert the output classes as 1-hot encodings"
   ]
  },
  {
   "cell_type": "markdown",
   "metadata": {
    "_cell_guid": "bd0b2cb3-6610-4fa0-adbd-091a0d1dc6eb",
    "_uuid": "2c9878139c2067013d32451c42a1453184d4671e"
   },
   "source": [
    "The tokenizer object stores a mapping (vocabulary) from word strings to token ids that can be inverted to reconstruct the original message (without formatting):"
   ]
  },
  {
   "cell_type": "code",
   "execution_count": 84,
   "metadata": {},
   "outputs": [
    {
     "name": "stderr",
     "output_type": "stream",
     "text": [
      "C:\\ProgramData\\Anaconda3\\lib\\site-packages\\keras_preprocessing\\text.py:174: UserWarning: The `nb_words` argument in `Tokenizer` has been renamed `num_words`.\n",
      "  warnings.warn('The `nb_words` argument in `Tokenizer` '\n"
     ]
    },
    {
     "name": "stdout",
     "output_type": "stream",
     "text": [
      "Found 59256 unique tokens.\n"
     ]
    }
   ],
   "source": [
    "MAX_NB_WORDS = 20000\n",
    "\n",
    "# get the raw text data\n",
    "texts_train = df['text'].astype(str)\n",
    "\n",
    "# finally, vectorize the text samples into a 2D integer tensor\n",
    "tokenizer = Tokenizer(nb_words=MAX_NB_WORDS, char_level=False)\n",
    "tokenizer.fit_on_texts(texts_train)\n",
    "sequences = tokenizer.texts_to_sequences(texts_train)\n",
    "\n",
    "word_index = tokenizer.word_index\n",
    "print('Found %s unique tokens.' % len(word_index))"
   ]
  },
  {
   "cell_type": "code",
   "execution_count": 85,
   "metadata": {
    "_cell_guid": "7ef9eff1-c75d-4bd1-b3e0-f104d7713f21",
    "_uuid": "49aa75fa45eb791b8e01d36fd60b9335323ced1a"
   },
   "outputs": [
    {
     "data": {
      "text/plain": [
       "(dict, 59256)"
      ]
     },
     "execution_count": 85,
     "metadata": {},
     "output_type": "execute_result"
    }
   ],
   "source": [
    "type(tokenizer.word_index), len(tokenizer.word_index)"
   ]
  },
  {
   "cell_type": "code",
   "execution_count": 86,
   "metadata": {
    "_cell_guid": "2bf28aad-c1c6-47d3-93c4-a3d01e83ef34",
    "_uuid": "34489f5781bed44791efccf10ff6be5fa45329f4"
   },
   "outputs": [],
   "source": [
    "index_to_word = dict((i, w) for w, i in tokenizer.word_index.items())"
   ]
  },
  {
   "cell_type": "code",
   "execution_count": 87,
   "metadata": {
    "_cell_guid": "4cb9ba81-35eb-4599-95b6-c26b62ef2a27",
    "_uuid": "8e0d88c0b375eb8137857cdb07f0ecb8fa109ba7"
   },
   "outputs": [
    {
     "data": {
      "text/plain": [
       "\"vandalising ok for the last time who the fuck do you think are mr encyclopaedia you don't own wikipedia loser you english twat hey why don't you contribute to the meaning of that one by describing yourself get a life\""
      ]
     },
     "execution_count": 87,
     "metadata": {},
     "output_type": "execute_result"
    }
   ],
   "source": [
    "\" \".join([index_to_word[i] for i in sequences[0]])"
   ]
  },
  {
   "cell_type": "code",
   "execution_count": 88,
   "metadata": {},
   "outputs": [
    {
     "data": {
      "text/plain": [
       "'just'"
      ]
     },
     "execution_count": 88,
     "metadata": {},
     "output_type": "execute_result"
    }
   ],
   "source": [
    "index_to_word[46]\n"
   ]
  },
  {
   "cell_type": "markdown",
   "metadata": {
    "_cell_guid": "95d36034-9567-414e-b335-100735eac55d",
    "_uuid": "00282f016c0cb0bb64da12e1b055c9963ed94fdd"
   },
   "source": [
    "\n",
    "Let's have a closer look at the tokenized sequences:"
   ]
  },
  {
   "cell_type": "code",
   "execution_count": 89,
   "metadata": {
    "_cell_guid": "e4794fbb-def5-41a7-a115-c98b75723606",
    "_uuid": "a2b3fc16fd889000afc92cf6649c91b7dc486b3a"
   },
   "outputs": [
    {
     "name": "stdout",
     "output_type": "stream",
     "text": [
      "average length: 59.8\n",
      "max length: 1400\n"
     ]
    }
   ],
   "source": [
    "seq_lens = [len(s) for s in sequences]\n",
    "print(\"average length: %0.1f\" % np.mean(seq_lens))\n",
    "print(\"max length: %d\" % max(seq_lens))"
   ]
  },
  {
   "cell_type": "code",
   "execution_count": 38,
   "metadata": {
    "_cell_guid": "63dd3132-4bcf-43e1-82c6-71976490d76a",
    "_uuid": "59004cf05a78a14d6c6186d3b60a8eb7f6f8c4fa"
   },
   "outputs": [
    {
     "data": {
      "image/png": "[encoded data removed]",
      "text/plain": [
       "<matplotlib.figure.Figure at 0x2ce6a1d0978>"
      ]
     },
     "metadata": {},
     "output_type": "display_data"
    }
   ],
   "source": [
    "%matplotlib inline\n",
    "import matplotlib.pyplot as plt\n",
    "\n",
    "plt.hist(seq_lens, bins=50);"
   ]
  },
  {
   "cell_type": "markdown",
   "metadata": {
    "_cell_guid": "c4d11a58-da34-4101-896b-bad856629ce3",
    "_uuid": "985e88716a7f4ab0c433fb412ba5ca520b4af2e9"
   },
   "source": [
    "\n",
    "Let's zoom on the distribution of regular sized posts. The vast majority of the posts have less than 200 symbols:"
   ]
  },
  {
   "cell_type": "code",
   "execution_count": 92,
   "metadata": {
    "_cell_guid": "2288dc93-eafe-488c-8533-aebc7e89000f",
    "_uuid": "f56919e05a5e81d3e4f5f505ff28e20150a46037"
   },
   "outputs": [
    {
     "data": {
      "text/plain": [
       "Text(0.5,1,'Sequence Length Distribution')"
      ]
     },
     "execution_count": 92,
     "metadata": {},
     "output_type": "execute_result"
    },
    {
     "data": {
      "image/png": "[encoded data removed]",
      "text/plain": [
       "<matplotlib.figure.Figure at 0x29c541125f8>"
      ]
     },
     "metadata": {},
     "output_type": "display_data"
    }
   ],
   "source": [
    "plt.hist([l for l in seq_lens if l < 200], bins=50)\n",
    "plt.xlabel('Sequence Length')\n",
    "plt.ylabel('Count')\n",
    "plt.title('Sequence Length Distribution')"
   ]
  },
  {
   "cell_type": "markdown",
   "metadata": {},
   "source": [
    "# Baseline Model"
   ]
  },
  {
   "cell_type": "code",
   "execution_count": 4,
   "metadata": {},
   "outputs": [],
   "source": [
    "import numpy\n",
    "import pandas\n",
    "from keras.models import Sequential\n",
    "from keras.layers import Dense\n",
    "from keras.wrappers.scikit_learn import KerasClassifier\n",
    "from keras.utils import np_utils\n",
    "from sklearn.model_selection import cross_val_score\n",
    "from sklearn.model_selection import KFold\n",
    "from sklearn.preprocessing import LabelEncoder\n",
    "from sklearn.pipeline import Pipeline"
   ]
  },
  {
   "cell_type": "code",
   "execution_count": 5,
   "metadata": {},
   "outputs": [],
   "source": [
    "# fix random seed for reproducibility\n",
    "seed = 7\n",
    "numpy.random.seed(seed)"
   ]
  },
  {
   "cell_type": "code",
   "execution_count": 6,
   "metadata": {},
   "outputs": [
    {
     "name": "stdout",
     "output_type": "stream",
     "text": [
      "      id                                               text  hate_speech  \\\n",
      "0   4255  \"\\n\\n\"\"Vandalising\"\", \"\"Ok for the last time\"\"...            1   \n",
      "1  19037  Where you at devil? The World's Greatest Terro...            1   \n",
      "2   4552  Here I am: 0Waldo with my 'OTHER' response to ...            1   \n",
      "3  30048  well then don't \\n\\nundo other people's edits ...            0   \n",
      "4   9643  Mr. kMan \\n\\nhi. I dont like the tonne of your...            1   \n",
      "\n",
      "   obscene  insulting  \n",
      "0        1          1  \n",
      "1        1          1  \n",
      "2        1          1  \n",
      "3        0          0  \n",
      "4        0          0  \n",
      "      id                                               text  hate_speech  \\\n",
      "0   4255  + + vandalis ok last time fuck think are encyc...            1   \n",
      "1  19037  devil world greatest terrorist forgot scum + +...            1   \n",
      "2   4552  am : 0waldo other respons total collater blath...            1   \n",
      "3  30048  well + + undo peopl edit clear know talk about...            0   \n",
      "4   9643  mr kman + + hi dont like tonn face touch mom f...            1   \n",
      "\n",
      "   obscene  insulting  \n",
      "0        1          1  \n",
      "1        1          1  \n",
      "2        1          1  \n",
      "3        0          0  \n",
      "4        0          0  \n",
      "      id                                               text  hate_speech  \\\n",
      "0   4255  + + vandalis ok last time fuck think are encyc...            1   \n",
      "1  19037  devil world greatest terrorist forgot scum + +...            1   \n",
      "2   4552  am : 0waldo other respons total collater blath...            1   \n",
      "3  30048  well + + undo peopl edit clear know talk about...            0   \n",
      "4   9643  mr kman + + hi dont like tonn face touch mom f...            1   \n",
      "\n",
      "   obscene  insulting  target  \n",
      "0        1          1       7  \n",
      "1        1          1       7  \n",
      "2        1          1       7  \n",
      "3        0          0       0  \n",
      "4        0          0       4  \n"
     ]
    }
   ],
   "source": [
    "# load dataset\n",
    "dataframe = pandas.read_csv(\"Train.csv\")\n",
    "print(dataframe.head())\n",
    "dataframe_test = pd.read_csv(\"Test.csv\")\n",
    "dataframe['text'] = dataframe['text'].map(lambda x: clean_text(x))\n",
    "print(dataframe.head())\n",
    "dataframe_test['text'] = dataframe_test['text'].map(lambda x: clean_text(x))\n",
    "dataframe['target'] = dataframe.apply(createLable, axis = 1)\n",
    "print(dataframe.head())"
   ]
  },
  {
   "cell_type": "code",
   "execution_count": 7,
   "metadata": {},
   "outputs": [
    {
     "name": "stderr",
     "output_type": "stream",
     "text": [
      "C:\\ProgramData\\Anaconda3\\lib\\site-packages\\keras_preprocessing\\text.py:174: UserWarning: The `nb_words` argument in `Tokenizer` has been renamed `num_words`.\n",
      "  warnings.warn('The `nb_words` argument in `Tokenizer` '\n"
     ]
    }
   ],
   "source": [
    "MAX_NB_WORDS = 20000\n",
    "\n",
    "# get the raw text data\n",
    "texts_train = dataframe['text'].astype(str)\n",
    "texts_test_msg = dataframe_test['text'].astype(str)\n",
    "\n",
    "# finally, vectorize the text samples into a 2D integer tensor\n",
    "tokenizer = Tokenizer(nb_words=MAX_NB_WORDS, char_level=False)\n",
    "tokenizer.fit_on_texts(texts_train)\n",
    "sequences = tokenizer.texts_to_sequences(texts_train)\n",
    "sequences_test = tokenizer.texts_to_sequences(texts_test_msg)"
   ]
  },
  {
   "cell_type": "code",
   "execution_count": 8,
   "metadata": {},
   "outputs": [
    {
     "name": "stdout",
     "output_type": "stream",
     "text": [
      "Shape of data tensor: (25307, 150)\n",
      "[[    0     0     0 ...   556    14   104]\n",
      " [    0     0     0 ...     1  4915  7241]\n",
      " [    0     0     0 ...  9885  1437  1775]\n",
      " ...\n",
      " [    0     0     0 ...     6   203   128]\n",
      " [    0     0     0 ...   188 11200    79]\n",
      " [    0     0     0 ...     0  1018   296]]\n"
     ]
    }
   ],
   "source": [
    "MAX_SEQUENCE_LENGTH = 150\n",
    "\n",
    "# pad sequences with 0s\n",
    "x_train = pad_sequences(sequences, maxlen=MAX_SEQUENCE_LENGTH)\n",
    "print('Shape of data tensor:', x_train.shape)\n",
    "print(x_train)\n",
    "x_test_msg = pad_sequences(sequences_test, maxlen=MAX_SEQUENCE_LENGTH)\n"
   ]
  },
  {
   "cell_type": "code",
   "execution_count": 9,
   "metadata": {},
   "outputs": [],
   "source": [
    "X = x_train\n",
    "Y = dataframe['target']"
   ]
  },
  {
   "cell_type": "code",
   "execution_count": 10,
   "metadata": {},
   "outputs": [
    {
     "data": {
      "text/plain": [
       "0    7\n",
       "1    7\n",
       "2    7\n",
       "3    0\n",
       "4    4\n",
       "Name: target, dtype: int64"
      ]
     },
     "execution_count": 10,
     "metadata": {},
     "output_type": "execute_result"
    }
   ],
   "source": [
    "Y[:5]"
   ]
  },
  {
   "cell_type": "code",
   "execution_count": 11,
   "metadata": {},
   "outputs": [],
   "source": [
    "# convert integers to dummy variables (i.e. one hot encoded)\n",
    "dummy_y = np_utils.to_categorical(Y)"
   ]
  },
  {
   "cell_type": "markdown",
   "metadata": {},
   "source": [
    "150 inputs -> [100 hidden nodes] -> 8 outputs"
   ]
  },
  {
   "cell_type": "code",
   "execution_count": 139,
   "metadata": {},
   "outputs": [],
   "source": [
    "# define baseline model\n",
    "def baseline_model():\n",
    "\t# create model\n",
    "\tmodel = Sequential()\n",
    "\tmodel.add(Dense(100, input_dim=150, activation='relu'))\n",
    "\tmodel.add(Dense(8, activation='softmax'))\n",
    "\t# Compile model\n",
    "\tmodel.compile(loss='categorical_crossentropy', optimizer='adam', metrics=['accuracy'])\n",
    "\treturn model"
   ]
  },
  {
   "cell_type": "code",
   "execution_count": 140,
   "metadata": {},
   "outputs": [],
   "source": [
    "estimator = KerasClassifier(build_fn=baseline_model, epochs=10, batch_size=5, verbose=0)"
   ]
  },
  {
   "cell_type": "code",
   "execution_count": 141,
   "metadata": {},
   "outputs": [],
   "source": [
    "kfold = KFold(n_splits=5, shuffle=True, random_state=seed)"
   ]
  },
  {
   "cell_type": "code",
   "execution_count": 142,
   "metadata": {},
   "outputs": [
    {
     "name": "stdout",
     "output_type": "stream",
     "text": [
      "Baseline: 49.60% (0.95%)\n"
     ]
    }
   ],
   "source": [
    "results = cross_val_score(estimator, X, dummy_y, cv=kfold)\n",
    "print(\"Baseline: %.2f%% (%.2f%%)\" % (results.mean()*100, results.std()*100))"
   ]
  },
  {
   "cell_type": "code",
   "execution_count": 143,
   "metadata": {},
   "outputs": [
    {
     "name": "stdout",
     "output_type": "stream",
     "text": [
      "[4 4 4 ... 4 4 0]\n"
     ]
    }
   ],
   "source": [
    "X_train, X_test, Y_train, Y_test = train_test_split(X, dummy_y, test_size=0.33, random_state=seed)\n",
    "estimator.fit(X_train, Y_train)\n",
    "predictions = estimator.predict(X_test)\n",
    "print(predictions)"
   ]
  },
  {
   "cell_type": "code",
   "execution_count": 144,
   "metadata": {},
   "outputs": [
    {
     "data": {
      "text/plain": [
       "array([0, 4, 7])"
      ]
     },
     "execution_count": 144,
     "metadata": {},
     "output_type": "execute_result"
    }
   ],
   "source": [
    "np.unique(predictions)\n",
    "# print(encoder.inverse_transform(predictions))"
   ]
  },
  {
   "cell_type": "code",
   "execution_count": 145,
   "metadata": {},
   "outputs": [
    {
     "name": "stdout",
     "output_type": "stream",
     "text": [
      "Hamming score: 0.37158764367816094\n"
     ]
    }
   ],
   "source": [
    "hamming_score_step(estimator.predict(X_test), Y_test.argmax(1))"
   ]
  },
  {
   "cell_type": "code",
   "execution_count": 57,
   "metadata": {},
   "outputs": [
    {
     "data": {
      "text/html": [
       "<div>\n",
       "<style scoped>\n",
       "    .dataframe tbody tr th:only-of-type {\n",
       "        vertical-align: middle;\n",
       "    }\n",
       "\n",
       "    .dataframe tbody tr th {\n",
       "        vertical-align: top;\n",
       "    }\n",
       "\n",
       "    .dataframe thead th {\n",
       "        text-align: right;\n",
       "    }\n",
       "</style>\n",
       "<table border=\"1\" class=\"dataframe\">\n",
       "  <thead>\n",
       "    <tr style=\"text-align: right;\">\n",
       "      <th></th>\n",
       "      <th>id</th>\n",
       "      <th>hate_speech</th>\n",
       "      <th>obscene</th>\n",
       "      <th>insulting</th>\n",
       "    </tr>\n",
       "  </thead>\n",
       "  <tbody>\n",
       "    <tr>\n",
       "      <th>0</th>\n",
       "      <td>21810</td>\n",
       "      <td>0</td>\n",
       "      <td>0</td>\n",
       "      <td>0</td>\n",
       "    </tr>\n",
       "    <tr>\n",
       "      <th>1</th>\n",
       "      <td>5865</td>\n",
       "      <td>0</td>\n",
       "      <td>0</td>\n",
       "      <td>0</td>\n",
       "    </tr>\n",
       "    <tr>\n",
       "      <th>2</th>\n",
       "      <td>25859</td>\n",
       "      <td>0</td>\n",
       "      <td>0</td>\n",
       "      <td>0</td>\n",
       "    </tr>\n",
       "    <tr>\n",
       "      <th>3</th>\n",
       "      <td>8721</td>\n",
       "      <td>0</td>\n",
       "      <td>0</td>\n",
       "      <td>0</td>\n",
       "    </tr>\n",
       "    <tr>\n",
       "      <th>4</th>\n",
       "      <td>8194</td>\n",
       "      <td>0</td>\n",
       "      <td>0</td>\n",
       "      <td>0</td>\n",
       "    </tr>\n",
       "  </tbody>\n",
       "</table>\n",
       "</div>"
      ],
      "text/plain": [
       "      id  hate_speech  obscene  insulting\n",
       "0  21810            0        0          0\n",
       "1   5865            0        0          0\n",
       "2  25859            0        0          0\n",
       "3   8721            0        0          0\n",
       "4   8194            0        0          0"
      ]
     },
     "execution_count": 57,
     "metadata": {},
     "output_type": "execute_result"
    }
   ],
   "source": [
    "final = estimator.predict(x_test_msg)\n",
    "result = pd.DataFrame({'id': dataframe_test['id'], 'target': final})\n",
    "result['hate_speech'] = result.apply(lambda row: 1 if row['target'] in [4,5,6,7] else 0, axis=1 )\n",
    "result['obscene'] = result.apply(lambda row: 1 if row['target'] in [2,3,5,7] else 0, axis=1 )\n",
    "result['insulting'] = result.apply(lambda row: 1 if row['target'] in [1,3,6,7] else 0, axis=1 )\n",
    "result = result.drop('target', axis = 1)\n",
    "result.head()"
   ]
  },
  {
   "cell_type": "code",
   "execution_count": 58,
   "metadata": {},
   "outputs": [],
   "source": [
    "result.to_csv(\"result2.csv\", index=False)"
   ]
  },
  {
   "cell_type": "markdown",
   "metadata": {},
   "source": [
    "## A complex model : LSTM"
   ]
  },
  {
   "cell_type": "markdown",
   "metadata": {},
   "source": [
    "150 inputs -> [Embedding 20000, 100] -> [100 hidden nodes LSTM] -> 8 outputs"
   ]
  },
  {
   "cell_type": "code",
   "execution_count": 146,
   "metadata": {},
   "outputs": [],
   "source": [
    "from keras.models import Sequential\n",
    "model = Sequential()\n",
    "model.add(Embedding(20000, 100, input_length=150))\n",
    "model.add(LSTM(100, dropout=0.2, recurrent_dropout=0.2))\n",
    "model.add(Dense(8, activation='softmax'))\n",
    "model.compile(loss='categorical_crossentropy', optimizer='adam', metrics=['accuracy'])"
   ]
  },
  {
   "cell_type": "code",
   "execution_count": 147,
   "metadata": {},
   "outputs": [],
   "source": [
    "X_train, X_test, Y_train, Y_test = train_test_split(X, dummy_y, test_size=0.33, random_state=seed)\n"
   ]
  },
  {
   "cell_type": "code",
   "execution_count": 148,
   "metadata": {
    "scrolled": true
   },
   "outputs": [
    {
     "name": "stdout",
     "output_type": "stream",
     "text": [
      "Train on 10173 samples, validate on 6782 samples\n",
      "Epoch 1/8\n",
      "10173/10173 [==============================] - 88s 9ms/step - loss: 1.0887 - acc: 0.6232 - val_loss: 0.8448 - val_acc: 0.7128\n",
      "Epoch 2/8\n",
      "10173/10173 [==============================] - 90s 9ms/step - loss: 0.6991 - acc: 0.7598 - val_loss: 0.7933 - val_acc: 0.7322\n",
      "Epoch 3/8\n",
      "10173/10173 [==============================] - 96s 9ms/step - loss: 0.5479 - acc: 0.8100 - val_loss: 0.8711 - val_acc: 0.7246\n",
      "Epoch 4/8\n",
      "10173/10173 [==============================] - 96s 9ms/step - loss: 0.4364 - acc: 0.8498 - val_loss: 0.8992 - val_acc: 0.7144\n",
      "Epoch 5/8\n",
      "10173/10173 [==============================] - 93s 9ms/step - loss: 0.3374 - acc: 0.8900 - val_loss: 1.0301 - val_acc: 0.7027\n",
      "Epoch 6/8\n",
      "10173/10173 [==============================] - 82s 8ms/step - loss: 0.2601 - acc: 0.9139 - val_loss: 1.1040 - val_acc: 0.6924\n",
      "Epoch 7/8\n",
      "10173/10173 [==============================] - 83s 8ms/step - loss: 0.2024 - acc: 0.9362 - val_loss: 1.2207 - val_acc: 0.6929\n",
      "Epoch 8/8\n",
      "10173/10173 [==============================] - 77s 8ms/step - loss: 0.1610 - acc: 0.9498 - val_loss: 1.3420 - val_acc: 0.6790\n"
     ]
    },
    {
     "data": {
      "text/plain": [
       "<keras.callbacks.History at 0x29c1cf5cf28>"
      ]
     },
     "execution_count": 148,
     "metadata": {},
     "output_type": "execute_result"
    }
   ],
   "source": [
    "model.fit(X_train, Y_train, validation_split=0.4, epochs=8)"
   ]
  },
  {
   "cell_type": "code",
   "execution_count": 112,
   "metadata": {},
   "outputs": [
    {
     "name": "stdout",
     "output_type": "stream",
     "text": [
      "Hamming score: 0.7784562579821199\n"
     ]
    }
   ],
   "source": [
    "hamming_score_step(model.predict_classes(X_test), Y_test.argmax(1))"
   ]
  },
  {
   "cell_type": "raw",
   "metadata": {},
   "source": [
    "def lstm_model():\n",
    "    # Create model\n",
    "    model = Sequential()\n",
    "    model.add(Embedding(20000, 100, input_length=150))\n",
    "    model.add(LSTM(100, dropout=0.2, recurrent_dropout=0.2))\n",
    "    model.add(Dense(8, activation='softmax'))\n",
    "    # Compile model\n",
    "    model.compile(loss='categorical_crossentropy', optimizer='adam', metrics=['accuracy'])\n",
    "    return model"
   ]
  },
  {
   "cell_type": "raw",
   "metadata": {},
   "source": [
    "estimator = KerasClassifier(build_fn=lstm_model, epochs=8, batch_size=5, verbose=0)"
   ]
  },
  {
   "cell_type": "raw",
   "metadata": {},
   "source": [
    "results = cross_val_score(estimator, X, dummy_y, cv=kfold)\n",
    "print(\"LSTM: %.2f%% (%.2f%%)\" % (results.mean()*100, results.std()*100))"
   ]
  },
  {
   "cell_type": "code",
   "execution_count": 26,
   "metadata": {},
   "outputs": [
    {
     "data": {
      "text/html": [
       "<div>\n",
       "<style scoped>\n",
       "    .dataframe tbody tr th:only-of-type {\n",
       "        vertical-align: middle;\n",
       "    }\n",
       "\n",
       "    .dataframe tbody tr th {\n",
       "        vertical-align: top;\n",
       "    }\n",
       "\n",
       "    .dataframe thead th {\n",
       "        text-align: right;\n",
       "    }\n",
       "</style>\n",
       "<table border=\"1\" class=\"dataframe\">\n",
       "  <thead>\n",
       "    <tr style=\"text-align: right;\">\n",
       "      <th></th>\n",
       "      <th>id</th>\n",
       "      <th>hate_speech</th>\n",
       "      <th>obscene</th>\n",
       "      <th>insulting</th>\n",
       "    </tr>\n",
       "  </thead>\n",
       "  <tbody>\n",
       "    <tr>\n",
       "      <th>0</th>\n",
       "      <td>21810</td>\n",
       "      <td>0</td>\n",
       "      <td>0</td>\n",
       "      <td>0</td>\n",
       "    </tr>\n",
       "    <tr>\n",
       "      <th>1</th>\n",
       "      <td>5865</td>\n",
       "      <td>0</td>\n",
       "      <td>0</td>\n",
       "      <td>0</td>\n",
       "    </tr>\n",
       "    <tr>\n",
       "      <th>2</th>\n",
       "      <td>25859</td>\n",
       "      <td>0</td>\n",
       "      <td>0</td>\n",
       "      <td>0</td>\n",
       "    </tr>\n",
       "    <tr>\n",
       "      <th>3</th>\n",
       "      <td>8721</td>\n",
       "      <td>1</td>\n",
       "      <td>1</td>\n",
       "      <td>1</td>\n",
       "    </tr>\n",
       "    <tr>\n",
       "      <th>4</th>\n",
       "      <td>8194</td>\n",
       "      <td>0</td>\n",
       "      <td>0</td>\n",
       "      <td>0</td>\n",
       "    </tr>\n",
       "  </tbody>\n",
       "</table>\n",
       "</div>"
      ],
      "text/plain": [
       "      id  hate_speech  obscene  insulting\n",
       "0  21810            0        0          0\n",
       "1   5865            0        0          0\n",
       "2  25859            0        0          0\n",
       "3   8721            1        1          1\n",
       "4   8194            0        0          0"
      ]
     },
     "execution_count": 26,
     "metadata": {},
     "output_type": "execute_result"
    }
   ],
   "source": [
    "final =  model.predict_classes(x_test_msg)\n",
    "result = pd.DataFrame({'id': dataframe_test['id'], 'target': final})\n",
    "result['hate_speech'] = result.apply(lambda row: 1 if row['target'] in [4,5,6,7] else 0, axis=1 )\n",
    "result['obscene'] = result.apply(lambda row: 1 if row['target'] in [2,3,5,7] else 0, axis=1 )\n",
    "result['insulting'] = result.apply(lambda row: 1 if row['target'] in [1,3,6,7] else 0, axis=1 )\n",
    "result = result.drop('target', axis = 1)\n",
    "result.head()"
   ]
  },
  {
   "cell_type": "code",
   "execution_count": 64,
   "metadata": {},
   "outputs": [],
   "source": [
    "result.to_csv(\"result3.csv\", index=False)"
   ]
  },
  {
   "cell_type": "code",
   "execution_count": 28,
   "metadata": {},
   "outputs": [
    {
     "data": {
      "text/plain": [
       "8352"
      ]
     },
     "execution_count": 28,
     "metadata": {},
     "output_type": "execute_result"
    }
   ],
   "source": [
    "len(X_test)"
   ]
  },
  {
   "cell_type": "code",
   "execution_count": 113,
   "metadata": {},
   "outputs": [],
   "source": [
    "from keras import backend as K\n",
    "get_emb_layer_output = K.function([model.layers[0].input],\n",
    "                                  [model.layers[2].input])\n",
    "embedding_output = get_emb_layer_output([X_test[:3000]])[0]"
   ]
  },
  {
   "cell_type": "code",
   "execution_count": 114,
   "metadata": {},
   "outputs": [],
   "source": [
    "emb_shape = embedding_output.shape\n",
    "to_plot_embedding = embedding_output.reshape(emb_shape[0],emb_shape[1])\n",
    "y = X_test[:3000]"
   ]
  },
  {
   "cell_type": "code",
   "execution_count": 115,
   "metadata": {},
   "outputs": [],
   "source": [
    "sentence_emb_tsne = TSNE(perplexity=30).fit_transform(to_plot_embedding)"
   ]
  },
  {
   "cell_type": "code",
   "execution_count": 60,
   "metadata": {},
   "outputs": [
    {
     "data": {
      "text/plain": [
       "(3000, 150)"
      ]
     },
     "execution_count": 60,
     "metadata": {},
     "output_type": "execute_result"
    }
   ],
   "source": [
    "y.shape"
   ]
  },
  {
   "cell_type": "code",
   "execution_count": 117,
   "metadata": {},
   "outputs": [
    {
     "data": {
      "image/png": "[encoded data removed]",
      "text/plain": [
       "<matplotlib.figure.Figure at 0x29c0014da90>"
      ]
     },
     "metadata": {},
     "output_type": "display_data"
    }
   ],
   "source": [
    "plt.figure()\n",
    "\n",
    "plt.scatter(sentence_emb_tsne[np.where(y == 0), 0],\n",
    "                   sentence_emb_tsne[np.where(y == 0), 1],\n",
    "                   marker='x', color='#458B00', \n",
    "                   linewidth='1', alpha=0.8, label=\"comment is not  'hate_speech', 'obscene' and 'insulting'\")\n",
    "plt.scatter(sentence_emb_tsne[np.where(y == 1), 0],\n",
    "                   sentence_emb_tsne[np.where(y == 1), 1],\n",
    "                   marker='v', color='#FF3030',\n",
    "                   linewidth='1', alpha=0.8, label=\"comment is only 'insulting'\")\n",
    "plt.scatter(sentence_emb_tsne[np.where(y == 2), 0],\n",
    "                   sentence_emb_tsne[np.where(y == 2), 1],\n",
    "                   marker='v', color='#FF7D40',\n",
    "                   linewidth='1', alpha=0.8, label=\"comment is only 'obscence'\")\n",
    "plt.scatter(sentence_emb_tsne[np.where(y == 3), 0],\n",
    "                   sentence_emb_tsne[np.where(y == 3), 1],\n",
    "                   marker='v', color='#DCDCDC',\n",
    "                   linewidth='1', alpha=0.8, label=\"comment is 'obscene' and 'insulting'\")\n",
    "plt.scatter(sentence_emb_tsne[np.where(y == 4), 0],\n",
    "                   sentence_emb_tsne[np.where(y == 4), 1],\n",
    "                   marker='v', color='#CDAD00',\n",
    "                   linewidth='1', alpha=0.8, label=\"comment is only 'hate_speech'\")\n",
    "plt.scatter(sentence_emb_tsne[np.where(y == 5), 0],\n",
    "                   sentence_emb_tsne[np.where(y == 5), 1],\n",
    "                   marker='v', color='#8B6914',\n",
    "                   linewidth='1', alpha=0.8, label=\"comment is 'hate_speech' and 'obscene'\")\n",
    "plt.scatter(sentence_emb_tsne[np.where(y == 6), 0],\n",
    "                   sentence_emb_tsne[np.where(y == 6), 1],\n",
    "                   marker='v', color='#F0F8FF',\n",
    "                   linewidth='1', alpha=0.8, label=\"comment is 'hate_speech' and 'insulting'\")\t\t\t\t   \n",
    "plt.scatter(sentence_emb_tsne[np.where(y == 7), 0],\n",
    "                   sentence_emb_tsne[np.where(y == 7), 1],\n",
    "                   marker='v', color='r',\n",
    "                   linewidth='1', alpha=0.8, label=\"comment is 'hate_speech', 'obscene' and 'insulting'\")\n",
    "\n",
    "plt.xlabel('Dim 1')\n",
    "plt.ylabel('Dim 2')\n",
    "plt.title('T-SNE')\n",
    "plt.legend(loc='center left', bbox_to_anchor=(1, 0.5))\n",
    "plt.savefig('1.png')\n",
    "plt.show()  "
   ]
  },
  {
   "cell_type": "markdown",
   "metadata": {},
   "source": [
    "# Pre-Trained GloVe"
   ]
  },
  {
   "cell_type": "code",
   "execution_count": 20,
   "metadata": {},
   "outputs": [],
   "source": [
    "from numpy import array\n",
    "from numpy import asarray\n",
    "from numpy import zeros\n",
    "from keras.preprocessing.text import Tokenizer\n",
    "from keras.preprocessing.sequence import pad_sequences\n",
    "from keras.models import Sequential\n",
    "from keras.layers import Dense\n",
    "from keras.layers import Flatten\n",
    "from keras.layers import Embedding\n",
    "from keras.layers import GlobalMaxPool1D"
   ]
  },
  {
   "cell_type": "code",
   "execution_count": 119,
   "metadata": {},
   "outputs": [
    {
     "name": "stdout",
     "output_type": "stream",
     "text": [
      "Loaded 400000 word vectors.\n"
     ]
    }
   ],
   "source": [
    "# load the whole embedding into memory\n",
    "embeddings_index = dict()\n",
    "f = open('glove.6B.100d.txt',encoding=\"utf8\")\n",
    "for line in f:\n",
    "\tvalues = line.split()\n",
    "\tword = values[0]\n",
    "\tcoefs = asarray(values[1:], dtype='float32')\n",
    "\tembeddings_index[word] = coefs\n",
    "f.close()\n",
    "print('Loaded %s word vectors.' % len(embeddings_index))"
   ]
  },
  {
   "cell_type": "code",
   "execution_count": 120,
   "metadata": {},
   "outputs": [
    {
     "name": "stdout",
     "output_type": "stream",
     "text": [
      "Shape of data tensor: (25307, 100)\n",
      "[[    0     0     0 ...   556    14   104]\n",
      " [    0     0     0 ...     1  4915  7241]\n",
      " [  365  1655  3226 ...  9885  1437  1775]\n",
      " ...\n",
      " [    0     0     0 ...     6   203   128]\n",
      " [    0     0     0 ...   188 11200    79]\n",
      " [    0     0     0 ...     0  1018   296]]\n"
     ]
    }
   ],
   "source": [
    "MAX_SEQUENCE_LENGTH = 100\n",
    "\n",
    "# pad sequences with 0s\n",
    "x_train = pad_sequences(sequences, maxlen=MAX_SEQUENCE_LENGTH)\n",
    "print('Shape of data tensor:', x_train.shape)\n",
    "print(x_train)\n",
    "x_test_msg = pad_sequences(sequences_test, maxlen=MAX_SEQUENCE_LENGTH)\n"
   ]
  },
  {
   "cell_type": "code",
   "execution_count": 121,
   "metadata": {},
   "outputs": [
    {
     "data": {
      "text/plain": [
       "41814"
      ]
     },
     "execution_count": 121,
     "metadata": {},
     "output_type": "execute_result"
    }
   ],
   "source": [
    "len(tokenizer.word_index.items())"
   ]
  },
  {
   "cell_type": "code",
   "execution_count": 122,
   "metadata": {},
   "outputs": [],
   "source": [
    "# create a weight matrix for words in training docs\n",
    "vocab_size = len(tokenizer.word_index) + 1\n",
    "embedding_matrix = zeros((vocab_size, 100))\n",
    "for word, i in tokenizer.word_index.items():\n",
    "\tembedding_vector = embeddings_index.get(word)\n",
    "\tif embedding_vector is not None:\n",
    "\t\tembedding_matrix[i] = embedding_vector"
   ]
  },
  {
   "cell_type": "code",
   "execution_count": 123,
   "metadata": {},
   "outputs": [],
   "source": [
    "X_train, X_test, Y_train, Y_test = train_test_split(x_train, dummy_y, test_size=0.33, random_state=seed)"
   ]
  },
  {
   "cell_type": "markdown",
   "metadata": {},
   "source": [
    "100 inputs -> [Embedding 20000, 100, weights=[embedding_matrix], input_length=100, trainable=False] -> [100 hidden nodes Dense] -> 8 outputs"
   ]
  },
  {
   "cell_type": "code",
   "execution_count": 124,
   "metadata": {},
   "outputs": [
    {
     "name": "stdout",
     "output_type": "stream",
     "text": [
      "_________________________________________________________________\n",
      "Layer (type)                 Output Shape              Param #   \n",
      "=================================================================\n",
      "embedding_4 (Embedding)      (None, 100, 100)          4181500   \n",
      "_________________________________________________________________\n",
      "flatten_1 (Flatten)          (None, 10000)             0         \n",
      "_________________________________________________________________\n",
      "dense_4 (Dense)              (None, 100)               1000100   \n",
      "_________________________________________________________________\n",
      "dense_5 (Dense)              (None, 8)                 808       \n",
      "=================================================================\n",
      "Total params: 5,182,408\n",
      "Trainable params: 1,000,908\n",
      "Non-trainable params: 4,181,500\n",
      "_________________________________________________________________\n",
      "None\n",
      "Accuracy: 98.554999\n"
     ]
    }
   ],
   "source": [
    "# define model\n",
    "model = Sequential()\n",
    "e = Embedding(vocab_size, 100, weights=[embedding_matrix], input_length=100, trainable=False)\n",
    "model.add(e)\n",
    "model.add(Flatten())\n",
    "model.add(Dense(100, activation='relu'))\n",
    "model.add(Dense(8, activation='softmax'))\n",
    "# compile the model\n",
    "model.compile(optimizer='adam', loss='categorical_crossentropy', metrics=['acc'])\n",
    "# summarize the model\n",
    "print(model.summary())\n",
    "# fit the model\n",
    "model.fit(X_train, Y_train, epochs=8, verbose=0)\n",
    "# model.fit(X, Y, epochs=8, verbose=0)\n",
    "# evaluate the model\n",
    "loss, accuracy = model.evaluate(X_train, Y_train, verbose=0)\n",
    "print('Accuracy: %f' % (accuracy*100))"
   ]
  },
  {
   "cell_type": "code",
   "execution_count": 72,
   "metadata": {},
   "outputs": [
    {
     "name": "stdout",
     "output_type": "stream",
     "text": [
      "Hamming score: 0.49207774584929753\n"
     ]
    }
   ],
   "source": [
    "hamming_score_step(model.predict_classes(X_test), Y_test.argmax(1))"
   ]
  },
  {
   "cell_type": "markdown",
   "metadata": {},
   "source": [
    "# lstm - cnn"
   ]
  },
  {
   "cell_type": "markdown",
   "metadata": {},
   "source": [
    "100 inputs -> [Embedding 20000, 100, input_length=100] -> Dropout(0.2) -> Conv1D(64, 5, activation='relu') -> MaxPooling1D(pool_size=4) -> [100 hidden nodes LSTM] -> 8 outputs"
   ]
  },
  {
   "cell_type": "code",
   "execution_count": 125,
   "metadata": {},
   "outputs": [],
   "source": [
    "model = Sequential()\n",
    "# Embedding(vocab_size, 100, weights=[embedding_matrix], input_length=100, trainable=False)\n",
    "model.add(Embedding(vocab_size, 100, input_length=100))\n",
    "model.add(Dropout(0.2))\n",
    "model.add(Conv1D(64, 5, activation='relu'))\n",
    "model.add(MaxPooling1D(pool_size=4))\n",
    "model.add(LSTM(100))\n",
    "model.add(Dense(8, activation='softmax'))\n",
    "model.compile(loss='categorical_crossentropy', optimizer='adam', metrics=['accuracy'])"
   ]
  },
  {
   "cell_type": "code",
   "execution_count": 126,
   "metadata": {},
   "outputs": [
    {
     "name": "stdout",
     "output_type": "stream",
     "text": [
      "_________________________________________________________________\n",
      "Layer (type)                 Output Shape              Param #   \n",
      "=================================================================\n",
      "embedding_5 (Embedding)      (None, 100, 100)          4181500   \n",
      "_________________________________________________________________\n",
      "dropout_1 (Dropout)          (None, 100, 100)          0         \n",
      "_________________________________________________________________\n",
      "conv1d_1 (Conv1D)            (None, 96, 64)            32064     \n",
      "_________________________________________________________________\n",
      "max_pooling1d_1 (MaxPooling1 (None, 24, 64)            0         \n",
      "_________________________________________________________________\n",
      "lstm_4 (LSTM)                (None, 100)               66000     \n",
      "_________________________________________________________________\n",
      "dense_6 (Dense)              (None, 8)                 808       \n",
      "=================================================================\n",
      "Total params: 4,280,372\n",
      "Trainable params: 4,280,372\n",
      "Non-trainable params: 0\n",
      "_________________________________________________________________\n",
      "None\n"
     ]
    },
    {
     "data": {
      "text/plain": [
       "<keras.callbacks.History at 0x29c04bd1908>"
      ]
     },
     "execution_count": 126,
     "metadata": {},
     "output_type": "execute_result"
    }
   ],
   "source": [
    "print(model.summary())\n",
    "# fit the model\n",
    "model.fit(X_train, Y_train, epochs=8, verbose=0)\n",
    "# model.fit(X, Y, epochs=8, verbose=0)\n"
   ]
  },
  {
   "cell_type": "code",
   "execution_count": 127,
   "metadata": {},
   "outputs": [
    {
     "name": "stdout",
     "output_type": "stream",
     "text": [
      "Accuracy: 98.859481\n"
     ]
    }
   ],
   "source": [
    "# evaluate the model\n",
    "loss, accuracy = model.evaluate(X_train, Y_train, verbose=0)\n",
    "print('Accuracy: %f' % (accuracy*100))"
   ]
  },
  {
   "cell_type": "code",
   "execution_count": 128,
   "metadata": {},
   "outputs": [
    {
     "name": "stdout",
     "output_type": "stream",
     "text": [
      "Hamming score: 0.7891123882503193\n"
     ]
    }
   ],
   "source": [
    "hamming_score_step(model.predict_classes(X_test), Y_test.argmax(1))"
   ]
  },
  {
   "cell_type": "code",
   "execution_count": 129,
   "metadata": {},
   "outputs": [
    {
     "data": {
      "text/html": [
       "<div>\n",
       "<style scoped>\n",
       "    .dataframe tbody tr th:only-of-type {\n",
       "        vertical-align: middle;\n",
       "    }\n",
       "\n",
       "    .dataframe tbody tr th {\n",
       "        vertical-align: top;\n",
       "    }\n",
       "\n",
       "    .dataframe thead th {\n",
       "        text-align: right;\n",
       "    }\n",
       "</style>\n",
       "<table border=\"1\" class=\"dataframe\">\n",
       "  <thead>\n",
       "    <tr style=\"text-align: right;\">\n",
       "      <th></th>\n",
       "      <th>id</th>\n",
       "      <th>hate_speech</th>\n",
       "      <th>obscene</th>\n",
       "      <th>insulting</th>\n",
       "    </tr>\n",
       "  </thead>\n",
       "  <tbody>\n",
       "    <tr>\n",
       "      <th>0</th>\n",
       "      <td>21810</td>\n",
       "      <td>0</td>\n",
       "      <td>0</td>\n",
       "      <td>0</td>\n",
       "    </tr>\n",
       "    <tr>\n",
       "      <th>1</th>\n",
       "      <td>5865</td>\n",
       "      <td>0</td>\n",
       "      <td>0</td>\n",
       "      <td>0</td>\n",
       "    </tr>\n",
       "    <tr>\n",
       "      <th>2</th>\n",
       "      <td>25859</td>\n",
       "      <td>0</td>\n",
       "      <td>0</td>\n",
       "      <td>0</td>\n",
       "    </tr>\n",
       "    <tr>\n",
       "      <th>3</th>\n",
       "      <td>8721</td>\n",
       "      <td>1</td>\n",
       "      <td>1</td>\n",
       "      <td>1</td>\n",
       "    </tr>\n",
       "    <tr>\n",
       "      <th>4</th>\n",
       "      <td>8194</td>\n",
       "      <td>0</td>\n",
       "      <td>0</td>\n",
       "      <td>0</td>\n",
       "    </tr>\n",
       "  </tbody>\n",
       "</table>\n",
       "</div>"
      ],
      "text/plain": [
       "      id  hate_speech  obscene  insulting\n",
       "0  21810            0        0          0\n",
       "1   5865            0        0          0\n",
       "2  25859            0        0          0\n",
       "3   8721            1        1          1\n",
       "4   8194            0        0          0"
      ]
     },
     "execution_count": 129,
     "metadata": {},
     "output_type": "execute_result"
    }
   ],
   "source": [
    "final =  model.predict_classes(x_test_msg)\n",
    "result = pd.DataFrame({'id': dataframe_test['id'], 'target': final})\n",
    "result['hate_speech'] = result.apply(lambda row: 1 if row['target'] in [4,5,6,7] else 0, axis=1 )\n",
    "result['obscene'] = result.apply(lambda row: 1 if row['target'] in [2,3,5,7] else 0, axis=1 )\n",
    "result['insulting'] = result.apply(lambda row: 1 if row['target'] in [1,3,6,7] else 0, axis=1 )\n",
    "result = result.drop('target', axis = 1)\n",
    "result.head()"
   ]
  },
  {
   "cell_type": "code",
   "execution_count": 130,
   "metadata": {},
   "outputs": [],
   "source": [
    "result.to_csv(\"result4.csv\", index=False)"
   ]
  },
  {
   "cell_type": "markdown",
   "metadata": {},
   "source": [
    "# CNN"
   ]
  },
  {
   "cell_type": "markdown",
   "metadata": {},
   "source": [
    "100 inputs -> [Embedding 20000, 128, input_length=150] -> Conv1D(64, 5, activation='relu') -> GloballMaxPool1D() -> Dropout(0.2) -> [50 hidden nodes Dense] -> Dropout(0.3) -> 8 outputs\n"
   ]
  },
  {
   "cell_type": "code",
   "execution_count": 24,
   "metadata": {},
   "outputs": [],
   "source": [
    "max_features = 20000\n",
    "emb_size = 128\n",
    "maxlen = 150\n",
    "model = Sequential()\n",
    "model.add(Embedding(max_features,emb_size,input_length =maxlen ))\n",
    "model.add(Conv1D(128, 5, activation='relu',use_bias=True))\n",
    "model.add(GlobalMaxPool1D())\n",
    "model.add(Dropout(0.1))\n",
    "model.add(Dense(50,activation='relu'))\n",
    "model.add(Dropout(0.3))\n",
    "model.add(Dense(8,activation='softmax'))\n",
    "model.compile(loss='categorical_crossentropy', optimizer='adam', metrics=['accuracy'])"
   ]
  },
  {
   "cell_type": "code",
   "execution_count": 25,
   "metadata": {},
   "outputs": [],
   "source": [
    "X_train, X_test, Y_train, Y_test = train_test_split(X, dummy_y, test_size=0.33, random_state=seed)"
   ]
  },
  {
   "cell_type": "code",
   "execution_count": 26,
   "metadata": {},
   "outputs": [
    {
     "name": "stdout",
     "output_type": "stream",
     "text": [
      "Train on 15259 samples, validate on 1696 samples\n",
      "Epoch 1/8\n",
      "15259/15259 [==============================] - 53s 3ms/step - loss: 1.1150 - acc: 0.6230 - val_loss: 0.7990 - val_acc: 0.7300\n",
      "Epoch 2/8\n",
      "15259/15259 [==============================] - 55s 4ms/step - loss: 0.7061 - acc: 0.7592 - val_loss: 0.7454 - val_acc: 0.7329\n",
      "Epoch 3/8\n",
      "15259/15259 [==============================] - 53s 3ms/step - loss: 0.5593 - acc: 0.8099 - val_loss: 0.7822 - val_acc: 0.7471\n",
      "Epoch 4/8\n",
      "15259/15259 [==============================] - 51s 3ms/step - loss: 0.4335 - acc: 0.8493 - val_loss: 0.8475 - val_acc: 0.7441\n",
      "Epoch 5/8\n",
      "15259/15259 [==============================] - 54s 4ms/step - loss: 0.3262 - acc: 0.8885 - val_loss: 0.9370 - val_acc: 0.7241\n",
      "Epoch 6/8\n",
      "15259/15259 [==============================] - 54s 4ms/step - loss: 0.2411 - acc: 0.9207 - val_loss: 1.1269 - val_acc: 0.7199\n",
      "Epoch 7/8\n",
      "15259/15259 [==============================] - 53s 3ms/step - loss: 0.1773 - acc: 0.9425 - val_loss: 1.2229 - val_acc: 0.7075\n",
      "Epoch 8/8\n",
      "15259/15259 [==============================] - 48s 3ms/step - loss: 0.1330 - acc: 0.9597 - val_loss: 1.2930 - val_acc: 0.7140\n"
     ]
    }
   ],
   "source": [
    "nb_epochs = 8\n",
    "# training the MLP model\n",
    "history = model.fit(X_train, Y_train, epochs=nb_epochs, batch_size=64, validation_split=0.1) "
   ]
  },
  {
   "cell_type": "code",
   "execution_count": 27,
   "metadata": {},
   "outputs": [
    {
     "name": "stdout",
     "output_type": "stream",
     "text": [
      "Accuracy: 95.570628\n"
     ]
    }
   ],
   "source": [
    "# evaluate the model\n",
    "loss, accuracy = model.evaluate(X_train, Y_train, verbose=0)\n",
    "print('Accuracy: %f' % (accuracy*100))"
   ]
  },
  {
   "cell_type": "code",
   "execution_count": 28,
   "metadata": {},
   "outputs": [
    {
     "name": "stdout",
     "output_type": "stream",
     "text": [
      "Hamming score: 0.7873762771392082\n"
     ]
    }
   ],
   "source": [
    "hamming_score_step(model.predict_classes(X_test), Y_test.argmax(1))"
   ]
  },
  {
   "cell_type": "code",
   "execution_count": 29,
   "metadata": {},
   "outputs": [],
   "source": [
    "train_acc = history.history['acc']\n",
    "train_loss = history.history['loss']\n",
    "\n",
    "val_acc = history.history['val_acc']\n",
    "val_loss = history.history['val_loss']"
   ]
  },
  {
   "cell_type": "code",
   "execution_count": 34,
   "metadata": {},
   "outputs": [
    {
     "data": {
      "text/plain": [
       "[<matplotlib.lines.Line2D at 0x1a0801957b8>]"
      ]
     },
     "execution_count": 34,
     "metadata": {},
     "output_type": "execute_result"
    },
    {
     "data": {
      "image/png": "[encoded data removed]",
      "text/plain": [
       "<matplotlib.figure.Figure at 0x1a080108278>"
      ]
     },
     "metadata": {},
     "output_type": "display_data"
    }
   ],
   "source": [
    "from matplotlib import pyplot as plt #plt is a visualization module in matplotlib.  \n",
    "%matplotlib inline \n",
    "plt.figure(figsize=(20,5))\n",
    "plt.subplot(1,2,1)\n",
    "plt.xlabel('Epochs')\n",
    "plt.ylabel('Loss')\n",
    "plt.plot(train_loss)\n",
    "plt.plot(val_loss)\n",
    "\n",
    "plt.subplot(1,2,2)\n",
    "plt.xlabel('Epochs')\n",
    "plt.ylabel('Accuracy')\n",
    "plt.plot(train_acc)\n",
    "plt.plot(val_acc)"
   ]
  },
  {
   "cell_type": "code",
   "execution_count": 31,
   "metadata": {},
   "outputs": [
    {
     "data": {
      "text/html": [
       "<div>\n",
       "<style scoped>\n",
       "    .dataframe tbody tr th:only-of-type {\n",
       "        vertical-align: middle;\n",
       "    }\n",
       "\n",
       "    .dataframe tbody tr th {\n",
       "        vertical-align: top;\n",
       "    }\n",
       "\n",
       "    .dataframe thead th {\n",
       "        text-align: right;\n",
       "    }\n",
       "</style>\n",
       "<table border=\"1\" class=\"dataframe\">\n",
       "  <thead>\n",
       "    <tr style=\"text-align: right;\">\n",
       "      <th></th>\n",
       "      <th>id</th>\n",
       "      <th>hate_speech</th>\n",
       "      <th>obscene</th>\n",
       "      <th>insulting</th>\n",
       "    </tr>\n",
       "  </thead>\n",
       "  <tbody>\n",
       "    <tr>\n",
       "      <th>0</th>\n",
       "      <td>21810</td>\n",
       "      <td>0</td>\n",
       "      <td>0</td>\n",
       "      <td>0</td>\n",
       "    </tr>\n",
       "    <tr>\n",
       "      <th>1</th>\n",
       "      <td>5865</td>\n",
       "      <td>0</td>\n",
       "      <td>0</td>\n",
       "      <td>0</td>\n",
       "    </tr>\n",
       "    <tr>\n",
       "      <th>2</th>\n",
       "      <td>25859</td>\n",
       "      <td>0</td>\n",
       "      <td>0</td>\n",
       "      <td>0</td>\n",
       "    </tr>\n",
       "    <tr>\n",
       "      <th>3</th>\n",
       "      <td>8721</td>\n",
       "      <td>1</td>\n",
       "      <td>1</td>\n",
       "      <td>1</td>\n",
       "    </tr>\n",
       "    <tr>\n",
       "      <th>4</th>\n",
       "      <td>8194</td>\n",
       "      <td>0</td>\n",
       "      <td>0</td>\n",
       "      <td>0</td>\n",
       "    </tr>\n",
       "  </tbody>\n",
       "</table>\n",
       "</div>"
      ],
      "text/plain": [
       "      id  hate_speech  obscene  insulting\n",
       "0  21810            0        0          0\n",
       "1   5865            0        0          0\n",
       "2  25859            0        0          0\n",
       "3   8721            1        1          1\n",
       "4   8194            0        0          0"
      ]
     },
     "execution_count": 31,
     "metadata": {},
     "output_type": "execute_result"
    }
   ],
   "source": [
    "final =  model.predict_classes(x_test_msg)\n",
    "result = pd.DataFrame({'id': dataframe_test['id'], 'target': final})\n",
    "result['hate_speech'] = result.apply(lambda row: 1 if row['target'] in [4,5,6,7] else 0, axis=1 )\n",
    "result['obscene'] = result.apply(lambda row: 1 if row['target'] in [2,3,5,7] else 0, axis=1 )\n",
    "result['insulting'] = result.apply(lambda row: 1 if row['target'] in [1,3,6,7] else 0, axis=1 )\n",
    "result = result.drop('target', axis = 1)\n",
    "result.head()"
   ]
  },
  {
   "cell_type": "code",
   "execution_count": 32,
   "metadata": {},
   "outputs": [],
   "source": [
    "result.to_csv(\"result5.csv\", index=False)"
   ]
  },
  {
   "cell_type": "code",
   "execution_count": 35,
   "metadata": {},
   "outputs": [
    {
     "name": "stdout",
     "output_type": "stream",
     "text": [
      "Shape of data tensor: (25307, 200)\n",
      "[[    0     0     0 ...   556    14   104]\n",
      " [    0     0     0 ...     1  4915  7241]\n",
      " [    0     0     0 ...  9885  1437  1775]\n",
      " ...\n",
      " [    0     0     0 ...     6   203   128]\n",
      " [    0     0     0 ...   188 11200    79]\n",
      " [    0     0     0 ...     0  1018   296]]\n"
     ]
    }
   ],
   "source": [
    "MAX_SEQUENCE_LENGTH = 200\n",
    "\n",
    "# pad sequences with 0s\n",
    "x_train = pad_sequences(sequences, maxlen=MAX_SEQUENCE_LENGTH)\n",
    "print('Shape of data tensor:', x_train.shape)\n",
    "print(x_train)\n",
    "x_test_msg = pad_sequences(sequences_test, maxlen=MAX_SEQUENCE_LENGTH)"
   ]
  },
  {
   "cell_type": "code",
   "execution_count": 36,
   "metadata": {},
   "outputs": [],
   "source": [
    "X = x_train\n",
    "Y = dataframe['target']\n",
    "# convert integers to dummy variables (i.e. one hot encoded)\n",
    "dummy_y = np_utils.to_categorical(Y)"
   ]
  },
  {
   "cell_type": "code",
   "execution_count": 40,
   "metadata": {},
   "outputs": [],
   "source": [
    "X_train, X_test, Y_train, Y_test = train_test_split(X, dummy_y, test_size=0.33, random_state=seed)"
   ]
  },
  {
   "cell_type": "code",
   "execution_count": 41,
   "metadata": {},
   "outputs": [],
   "source": [
    "max_features = 20000\n",
    "emb_size = 128\n",
    "maxlen = 200\n",
    "model = Sequential()\n",
    "model.add(Embedding(max_features,emb_size,input_length =maxlen ))\n",
    "model.add(Conv1D(128, 5, activation='relu',use_bias=True))\n",
    "model.add(GlobalMaxPool1D())\n",
    "model.add(Dropout(0.1))\n",
    "model.add(Dense(50,activation='relu'))\n",
    "model.add(Dropout(0.3))\n",
    "model.add(Dense(50,activation='relu'))\n",
    "model.add(Dropout(0.3))\n",
    "model.add(Dense(8,activation='softmax'))\n",
    "model.compile(loss='categorical_crossentropy', optimizer='adam', metrics=['accuracy'])"
   ]
  },
  {
   "cell_type": "code",
   "execution_count": 42,
   "metadata": {},
   "outputs": [
    {
     "name": "stdout",
     "output_type": "stream",
     "text": [
      "Train on 15259 samples, validate on 1696 samples\n",
      "Epoch 1/8\n",
      "15259/15259 [==============================] - 59s 4ms/step - loss: 1.4157 - acc: 0.5216 - val_loss: 0.9161 - val_acc: 0.6893\n",
      "Epoch 2/8\n",
      "15259/15259 [==============================] - 58s 4ms/step - loss: 0.8265 - acc: 0.7188 - val_loss: 0.7662 - val_acc: 0.7347\n",
      "Epoch 3/8\n",
      "15259/15259 [==============================] - 59s 4ms/step - loss: 0.6507 - acc: 0.7803 - val_loss: 0.7746 - val_acc: 0.7317\n",
      "Epoch 4/8\n",
      "15259/15259 [==============================] - 60s 4ms/step - loss: 0.5386 - acc: 0.8184 - val_loss: 0.8710 - val_acc: 0.7300\n",
      "Epoch 5/8\n",
      "15259/15259 [==============================] - 62s 4ms/step - loss: 0.4527 - acc: 0.8415 - val_loss: 0.9313 - val_acc: 0.7305\n",
      "Epoch 6/8\n",
      "15259/15259 [==============================] - 56s 4ms/step - loss: 0.3832 - acc: 0.8559 - val_loss: 0.9736 - val_acc: 0.7217\n",
      "Epoch 7/8\n",
      "15259/15259 [==============================] - 57s 4ms/step - loss: 0.3160 - acc: 0.8788 - val_loss: 1.1484 - val_acc: 0.7158\n",
      "Epoch 8/8\n",
      "15259/15259 [==============================] - 58s 4ms/step - loss: 0.2627 - acc: 0.9025 - val_loss: 1.2960 - val_acc: 0.7182\n"
     ]
    }
   ],
   "source": [
    "nb_epochs = 8\n",
    "# training the MLP model\n",
    "history_200 = model.fit(X_train, Y_train, epochs=nb_epochs, batch_size=128, validation_split=0.1) "
   ]
  },
  {
   "cell_type": "code",
   "execution_count": 43,
   "metadata": {},
   "outputs": [
    {
     "name": "stdout",
     "output_type": "stream",
     "text": [
      "Hamming score: 0.7933030012771393\n"
     ]
    }
   ],
   "source": [
    "hamming_score_step(model.predict_classes(X_test), Y_test.argmax(1))"
   ]
  },
  {
   "cell_type": "code",
   "execution_count": 44,
   "metadata": {},
   "outputs": [],
   "source": [
    "train_acc_200 = history_200.history['acc']\n",
    "train_loss_200 = history_200.history['loss']\n",
    "\n",
    "val_acc_200 = history_200.history['val_acc']\n",
    "val_loss_200 = history_200.history['val_loss']"
   ]
  },
  {
   "cell_type": "code",
   "execution_count": 45,
   "metadata": {},
   "outputs": [
    {
     "data": {
      "text/plain": [
       "[<matplotlib.lines.Line2D at 0x1a08a61fef0>]"
      ]
     },
     "execution_count": 45,
     "metadata": {},
     "output_type": "execute_result"
    },
    {
     "data": {
      "image/png": "[encoded data removed]",
      "text/plain": [
       "<matplotlib.figure.Figure at 0x1a080108128>"
      ]
     },
     "metadata": {},
     "output_type": "display_data"
    },
    {
     "data": {
      "image/png": "[encoded data removed]",
      "text/plain": [
       "<matplotlib.figure.Figure at 0x1a086e04c18>"
      ]
     },
     "metadata": {},
     "output_type": "display_data"
    }
   ],
   "source": [
    "from matplotlib import pyplot as plt #plt is a visualization module in matplotlib.  \n",
    "%matplotlib inline \n",
    "plt.figure(figsize=(20,5))\n",
    "plt.subplot(1,2,1)\n",
    "plt.xlabel('Epochs')\n",
    "plt.ylabel('Loss')\n",
    "plt.plot(train_loss)\n",
    "plt.plot(val_loss)\n",
    "\n",
    "plt.subplot(1,2,2)\n",
    "plt.xlabel('Epochs')\n",
    "plt.ylabel('Accuracy')\n",
    "plt.plot(train_acc)\n",
    "plt.plot(val_acc)\n",
    "\n",
    "plt.figure(figsize=(20,5))\n",
    "plt.subplot(1,2,1)\n",
    "plt.xlabel('Epochs')\n",
    "plt.ylabel('Loss')\n",
    "plt.plot(train_loss_200)\n",
    "plt.plot(val_loss_200)\n",
    "\n",
    "plt.subplot(1,2,2)\n",
    "plt.xlabel('Epochs')\n",
    "plt.ylabel('Accuracy')\n",
    "plt.plot(train_acc_200)\n",
    "plt.plot(val_acc_200)"
   ]
  },
  {
   "cell_type": "code",
   "execution_count": 46,
   "metadata": {},
   "outputs": [
    {
     "data": {
      "text/html": [
       "<div>\n",
       "<style scoped>\n",
       "    .dataframe tbody tr th:only-of-type {\n",
       "        vertical-align: middle;\n",
       "    }\n",
       "\n",
       "    .dataframe tbody tr th {\n",
       "        vertical-align: top;\n",
       "    }\n",
       "\n",
       "    .dataframe thead th {\n",
       "        text-align: right;\n",
       "    }\n",
       "</style>\n",
       "<table border=\"1\" class=\"dataframe\">\n",
       "  <thead>\n",
       "    <tr style=\"text-align: right;\">\n",
       "      <th></th>\n",
       "      <th>id</th>\n",
       "      <th>hate_speech</th>\n",
       "      <th>obscene</th>\n",
       "      <th>insulting</th>\n",
       "    </tr>\n",
       "  </thead>\n",
       "  <tbody>\n",
       "    <tr>\n",
       "      <th>0</th>\n",
       "      <td>21810</td>\n",
       "      <td>0</td>\n",
       "      <td>0</td>\n",
       "      <td>0</td>\n",
       "    </tr>\n",
       "    <tr>\n",
       "      <th>1</th>\n",
       "      <td>5865</td>\n",
       "      <td>0</td>\n",
       "      <td>0</td>\n",
       "      <td>0</td>\n",
       "    </tr>\n",
       "    <tr>\n",
       "      <th>2</th>\n",
       "      <td>25859</td>\n",
       "      <td>0</td>\n",
       "      <td>0</td>\n",
       "      <td>0</td>\n",
       "    </tr>\n",
       "    <tr>\n",
       "      <th>3</th>\n",
       "      <td>8721</td>\n",
       "      <td>1</td>\n",
       "      <td>1</td>\n",
       "      <td>1</td>\n",
       "    </tr>\n",
       "    <tr>\n",
       "      <th>4</th>\n",
       "      <td>8194</td>\n",
       "      <td>0</td>\n",
       "      <td>0</td>\n",
       "      <td>0</td>\n",
       "    </tr>\n",
       "  </tbody>\n",
       "</table>\n",
       "</div>"
      ],
      "text/plain": [
       "      id  hate_speech  obscene  insulting\n",
       "0  21810            0        0          0\n",
       "1   5865            0        0          0\n",
       "2  25859            0        0          0\n",
       "3   8721            1        1          1\n",
       "4   8194            0        0          0"
      ]
     },
     "execution_count": 46,
     "metadata": {},
     "output_type": "execute_result"
    }
   ],
   "source": [
    "final =  model.predict_classes(x_test_msg)\n",
    "result = pd.DataFrame({'id': dataframe_test['id'], 'target': final})\n",
    "result['hate_speech'] = result.apply(lambda row: 1 if row['target'] in [4,5,6,7] else 0, axis=1 )\n",
    "result['obscene'] = result.apply(lambda row: 1 if row['target'] in [2,3,5,7] else 0, axis=1 )\n",
    "result['insulting'] = result.apply(lambda row: 1 if row['target'] in [1,3,6,7] else 0, axis=1 )\n",
    "result = result.drop('target', axis = 1)\n",
    "result.to_csv(\"result6.csv\", index=False)\n",
    "result.head()"
   ]
  },
  {
   "cell_type": "code",
   "execution_count": 48,
   "metadata": {},
   "outputs": [
    {
     "name": "stdout",
     "output_type": "stream",
     "text": [
      "Train on 15259 samples, validate on 1696 samples\n",
      "Epoch 1/8\n",
      "15259/15259 [==============================] - 57s 4ms/step - loss: 1.4681 - acc: 0.5055 - val_loss: 0.9791 - val_acc: 0.6509\n",
      "Epoch 2/8\n",
      "15259/15259 [==============================] - 55s 4ms/step - loss: 0.8969 - acc: 0.6941 - val_loss: 0.7718 - val_acc: 0.7447\n",
      "Epoch 3/8\n",
      "15259/15259 [==============================] - 59s 4ms/step - loss: 0.7186 - acc: 0.7614 - val_loss: 0.7894 - val_acc: 0.7364\n",
      "Epoch 4/8\n",
      "15259/15259 [==============================] - 59s 4ms/step - loss: 0.6204 - acc: 0.7947 - val_loss: 0.8102 - val_acc: 0.7323\n",
      "Epoch 5/8\n",
      "15259/15259 [==============================] - 61s 4ms/step - loss: 0.5499 - acc: 0.8166 - val_loss: 0.8702 - val_acc: 0.7270\n",
      "Epoch 6/8\n",
      "15259/15259 [==============================] - 59s 4ms/step - loss: 0.4697 - acc: 0.8360 - val_loss: 0.9344 - val_acc: 0.7087\n",
      "Epoch 7/8\n",
      "15259/15259 [==============================] - 56s 4ms/step - loss: 0.4149 - acc: 0.8484 - val_loss: 0.9994 - val_acc: 0.7152\n",
      "Epoch 8/8\n",
      "15259/15259 [==============================] - 55s 4ms/step - loss: 0.3708 - acc: 0.8588 - val_loss: 1.0986 - val_acc: 0.7140\n"
     ]
    }
   ],
   "source": [
    "max_features = 20000\n",
    "emb_size = 128\n",
    "maxlen = 200\n",
    "model = Sequential()\n",
    "model.add(Embedding(max_features,emb_size,input_length =maxlen ))\n",
    "model.add(Conv1D(128, 5, activation='relu',use_bias=True))\n",
    "model.add(GlobalMaxPool1D())\n",
    "model.add(Dropout(0.3))\n",
    "model.add(Dense(50,activation='relu'))\n",
    "model.add(Dropout(0.3))\n",
    "model.add(Dense(50,activation='relu'))\n",
    "model.add(Dropout(0.5))\n",
    "model.add(Dense(8,activation='softmax'))\n",
    "model.compile(loss='categorical_crossentropy', optimizer='adam', metrics=['accuracy'])\n",
    "nb_epochs = 8\n",
    "history_201 = model.fit(X_train, Y_train, epochs=nb_epochs, batch_size=128, validation_split=0.1)"
   ]
  },
  {
   "cell_type": "code",
   "execution_count": 49,
   "metadata": {},
   "outputs": [
    {
     "name": "stdout",
     "output_type": "stream",
     "text": [
      "Hamming score: 0.7919061302681991\n"
     ]
    }
   ],
   "source": [
    "hamming_score_step(model.predict_classes(X_test), Y_test.argmax(1))"
   ]
  },
  {
   "cell_type": "code",
   "execution_count": 50,
   "metadata": {},
   "outputs": [],
   "source": [
    "train_acc_201 = history_201.history['acc']\n",
    "train_loss_201 = history_201.history['loss']\n",
    "\n",
    "val_acc_201 = history_201.history['val_acc']\n",
    "val_loss_201 = history_201.history['val_loss']\n"
   ]
  },
  {
   "cell_type": "code",
   "execution_count": 80,
   "metadata": {},
   "outputs": [
    {
     "data": {
      "image/png": "[encoded data removed]",
      "text/plain": [
       "<matplotlib.figure.Figure at 0x1a095b306d8>"
      ]
     },
     "metadata": {},
     "output_type": "display_data"
    },
    {
     "data": {
      "image/png": "[encoded data removed]",
      "text/plain": [
       "<matplotlib.figure.Figure at 0x1a095ab3128>"
      ]
     },
     "metadata": {},
     "output_type": "display_data"
    },
    {
     "data": {
      "image/png": "[encoded data removed]",
      "text/plain": [
       "<matplotlib.figure.Figure at 0x1a08b8394e0>"
      ]
     },
     "metadata": {},
     "output_type": "display_data"
    }
   ],
   "source": [
    "from matplotlib import pyplot as plt #plt is a visualization module in matplotlib.  \n",
    "%matplotlib inline \n",
    "plt.figure(figsize=(20,5))\n",
    "plt.subplot(1,2,1)\n",
    "plt.xlabel('Epochs')\n",
    "plt.ylabel('Loss')\n",
    "plt.plot(train_loss, label=\"train\")\n",
    "plt.plot(val_loss,  label=\"test\")\n",
    "plt.legend()\n",
    "plt.annotate(\"Hamming Score: 78\",xy=(1, .2))\n",
    "plt.title('CNN Loss')\n",
    "\n",
    "\n",
    "plt.subplot(1,2,2)\n",
    "plt.xlabel('Epochs')\n",
    "plt.ylabel('Accuracy')\n",
    "plt.plot(train_acc,  label=\"train\")\n",
    "plt.plot(val_acc, label=\"test\")\n",
    "plt.legend()\n",
    "plt.annotate(\"Hamming Score: 78\",xy=(1, .65))\n",
    "plt.title('CNN Accuracy')\n",
    "\n",
    "plt.figure(figsize=(20,5))\n",
    "plt.subplot(1,2,1)\n",
    "plt.xlabel('Epochs')\n",
    "plt.ylabel('Loss')\n",
    "plt.plot(train_loss_200,  label=\"train\")\n",
    "plt.plot(val_loss_200, label=\"test\")\n",
    "plt.legend()\n",
    "plt.annotate(\"Hamming Score: 79.33\",xy=(1, .4))\n",
    "plt.title('CNN (with 2% Drop) Loss')\n",
    "\n",
    "plt.subplot(1,2,2)\n",
    "plt.xlabel('Epochs')\n",
    "plt.ylabel('Accuracy')\n",
    "plt.plot(train_acc_200,  label=\"train\")\n",
    "plt.plot(val_acc_200, label=\"test\")\n",
    "plt.legend()\n",
    "plt.annotate(\"Hamming Score: 79.33\",xy=(1, .55))\n",
    "plt.title('CNN (with 2% Drop) Accuracy')\n",
    "\n",
    "plt.figure(figsize=(20,5))\n",
    "plt.subplot(1,2,1)\n",
    "plt.xlabel('Epochs')\n",
    "plt.ylabel('Loss')\n",
    "plt.plot(train_loss_201,label=\"train\")\n",
    "plt.plot(val_loss_201,label=\"test\")\n",
    "plt.legend()\n",
    "plt.annotate(\"Hamming Score: 79.19\",xy=(1, .4))\n",
    "plt.title('CNN (with 5% Drop) Loss')\n",
    "\n",
    "plt.subplot(1,2,2)\n",
    "plt.xlabel('Epochs')\n",
    "plt.ylabel('Accuracy')\n",
    "plt.plot(train_acc_201,  label=\"train\")\n",
    "plt.plot(val_acc_201, label=\"test\")\n",
    "plt.legend()\n",
    "plt.annotate(\"Hamming Score: 79.19\",xy=(1, .55))\n",
    "plt.title('CNN (with 5% Drop) Accuracy')\n",
    "\n",
    "\n",
    "plt.savefig('CNN.png')"
   ]
  },
  {
   "cell_type": "code",
   "execution_count": 64,
   "metadata": {},
   "outputs": [
    {
     "data": {
      "text/html": [
       "<div>\n",
       "<style scoped>\n",
       "    .dataframe tbody tr th:only-of-type {\n",
       "        vertical-align: middle;\n",
       "    }\n",
       "\n",
       "    .dataframe tbody tr th {\n",
       "        vertical-align: top;\n",
       "    }\n",
       "\n",
       "    .dataframe thead th {\n",
       "        text-align: right;\n",
       "    }\n",
       "</style>\n",
       "<table border=\"1\" class=\"dataframe\">\n",
       "  <thead>\n",
       "    <tr style=\"text-align: right;\">\n",
       "      <th></th>\n",
       "      <th>id</th>\n",
       "      <th>hate_speech</th>\n",
       "      <th>obscene</th>\n",
       "      <th>insulting</th>\n",
       "    </tr>\n",
       "  </thead>\n",
       "  <tbody>\n",
       "    <tr>\n",
       "      <th>0</th>\n",
       "      <td>21810</td>\n",
       "      <td>0</td>\n",
       "      <td>0</td>\n",
       "      <td>0</td>\n",
       "    </tr>\n",
       "    <tr>\n",
       "      <th>1</th>\n",
       "      <td>5865</td>\n",
       "      <td>0</td>\n",
       "      <td>0</td>\n",
       "      <td>0</td>\n",
       "    </tr>\n",
       "    <tr>\n",
       "      <th>2</th>\n",
       "      <td>25859</td>\n",
       "      <td>0</td>\n",
       "      <td>0</td>\n",
       "      <td>0</td>\n",
       "    </tr>\n",
       "    <tr>\n",
       "      <th>3</th>\n",
       "      <td>8721</td>\n",
       "      <td>1</td>\n",
       "      <td>1</td>\n",
       "      <td>1</td>\n",
       "    </tr>\n",
       "    <tr>\n",
       "      <th>4</th>\n",
       "      <td>8194</td>\n",
       "      <td>0</td>\n",
       "      <td>0</td>\n",
       "      <td>0</td>\n",
       "    </tr>\n",
       "  </tbody>\n",
       "</table>\n",
       "</div>"
      ],
      "text/plain": [
       "      id  hate_speech  obscene  insulting\n",
       "0  21810            0        0          0\n",
       "1   5865            0        0          0\n",
       "2  25859            0        0          0\n",
       "3   8721            1        1          1\n",
       "4   8194            0        0          0"
      ]
     },
     "execution_count": 64,
     "metadata": {},
     "output_type": "execute_result"
    }
   ],
   "source": [
    "final =  model.predict_classes(x_test_msg)\n",
    "result = pd.DataFrame({'id': dataframe_test['id'], 'target': final})\n",
    "result['hate_speech'] = result.apply(lambda row: 1 if row['target'] in [4,5,6,7] else 0, axis=1 )\n",
    "result['obscene'] = result.apply(lambda row: 1 if row['target'] in [2,3,5,7] else 0, axis=1 )\n",
    "result['insulting'] = result.apply(lambda row: 1 if row['target'] in [1,3,6,7] else 0, axis=1 )\n",
    "result = result.drop('target', axis = 1)\n",
    "result.to_csv(\"result7.csv\", index=False)\n",
    "result.head()"
   ]
  }
 ],
 "metadata": {
  "kernelspec": {
   "display_name": "Python 3",
   "language": "python",
   "name": "python3"
  },
  "language_info": {
   "codemirror_mode": {
    "name": "ipython",
    "version": 3
   },
   "file_extension": ".py",
   "mimetype": "text/x-python",
   "name": "python",
   "nbconvert_exporter": "python",
   "pygments_lexer": "ipython3",
   "version": "3.6.4"
  }
 },
 "nbformat": 4,
 "nbformat_minor": 1
}
